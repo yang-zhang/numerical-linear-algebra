{
 "cells": [
  {
   "cell_type": "code",
   "execution_count": 81,
   "metadata": {},
   "outputs": [],
   "source": [
    "import pandas as pd\n",
    "import scipy \n",
    "import numpy as np"
   ]
  },
  {
   "cell_type": "code",
   "execution_count": 82,
   "metadata": {},
   "outputs": [
    {
     "data": {
      "text/html": [
       "<div>\n",
       "<style scoped>\n",
       "    .dataframe tbody tr th:only-of-type {\n",
       "        vertical-align: middle;\n",
       "    }\n",
       "\n",
       "    .dataframe tbody tr th {\n",
       "        vertical-align: top;\n",
       "    }\n",
       "\n",
       "    .dataframe thead th {\n",
       "        text-align: right;\n",
       "    }\n",
       "</style>\n",
       "<table border=\"1\" class=\"dataframe\">\n",
       "  <thead>\n",
       "    <tr style=\"text-align: right;\">\n",
       "      <th></th>\n",
       "      <th>0</th>\n",
       "      <th>1</th>\n",
       "      <th>2</th>\n",
       "      <th>3</th>\n",
       "      <th>4</th>\n",
       "      <th>5</th>\n",
       "    </tr>\n",
       "  </thead>\n",
       "  <tbody>\n",
       "    <tr>\n",
       "      <th>0</th>\n",
       "      <td>1.39</td>\n",
       "      <td>0.49</td>\n",
       "      <td>2.16</td>\n",
       "      <td>-0.51</td>\n",
       "      <td>-1.32</td>\n",
       "      <td>-0.11</td>\n",
       "    </tr>\n",
       "    <tr>\n",
       "      <th>1</th>\n",
       "      <td>-0.84</td>\n",
       "      <td>0.45</td>\n",
       "      <td>-0.75</td>\n",
       "      <td>-0.85</td>\n",
       "      <td>1.01</td>\n",
       "      <td>-0.51</td>\n",
       "    </tr>\n",
       "    <tr>\n",
       "      <th>2</th>\n",
       "      <td>0.22</td>\n",
       "      <td>-1.33</td>\n",
       "      <td>0.46</td>\n",
       "      <td>1.36</td>\n",
       "      <td>-0.10</td>\n",
       "      <td>0.61</td>\n",
       "    </tr>\n",
       "    <tr>\n",
       "      <th>3</th>\n",
       "      <td>0.47</td>\n",
       "      <td>-1.53</td>\n",
       "      <td>-0.29</td>\n",
       "      <td>0.26</td>\n",
       "      <td>-0.44</td>\n",
       "      <td>-0.13</td>\n",
       "    </tr>\n",
       "    <tr>\n",
       "      <th>4</th>\n",
       "      <td>-0.06</td>\n",
       "      <td>0.94</td>\n",
       "      <td>-0.91</td>\n",
       "      <td>0.75</td>\n",
       "      <td>0.55</td>\n",
       "      <td>0.17</td>\n",
       "    </tr>\n",
       "    <tr>\n",
       "      <th>5</th>\n",
       "      <td>-0.98</td>\n",
       "      <td>1.12</td>\n",
       "      <td>-0.38</td>\n",
       "      <td>-0.14</td>\n",
       "      <td>0.65</td>\n",
       "      <td>0.25</td>\n",
       "    </tr>\n",
       "    <tr>\n",
       "      <th>6</th>\n",
       "      <td>0.17</td>\n",
       "      <td>0.06</td>\n",
       "      <td>-1.06</td>\n",
       "      <td>0.96</td>\n",
       "      <td>0.44</td>\n",
       "      <td>1.11</td>\n",
       "    </tr>\n",
       "    <tr>\n",
       "      <th>7</th>\n",
       "      <td>1.47</td>\n",
       "      <td>-1.61</td>\n",
       "      <td>1.08</td>\n",
       "      <td>-1.25</td>\n",
       "      <td>-0.50</td>\n",
       "      <td>0.25</td>\n",
       "    </tr>\n",
       "    <tr>\n",
       "      <th>8</th>\n",
       "      <td>0.41</td>\n",
       "      <td>2.12</td>\n",
       "      <td>-1.28</td>\n",
       "      <td>0.06</td>\n",
       "      <td>1.97</td>\n",
       "      <td>-0.06</td>\n",
       "    </tr>\n",
       "    <tr>\n",
       "      <th>9</th>\n",
       "      <td>0.25</td>\n",
       "      <td>-1.20</td>\n",
       "      <td>-2.06</td>\n",
       "      <td>-0.05</td>\n",
       "      <td>-2.54</td>\n",
       "      <td>-0.51</td>\n",
       "    </tr>\n",
       "  </tbody>\n",
       "</table>\n",
       "</div>"
      ],
      "text/plain": [
       "      0     1     2     3     4     5\n",
       "0  1.39  0.49  2.16 -0.51 -1.32 -0.11\n",
       "1 -0.84  0.45 -0.75 -0.85  1.01 -0.51\n",
       "2  0.22 -1.33  0.46  1.36 -0.10  0.61\n",
       "3  0.47 -1.53 -0.29  0.26 -0.44 -0.13\n",
       "4 -0.06  0.94 -0.91  0.75  0.55  0.17\n",
       "5 -0.98  1.12 -0.38 -0.14  0.65  0.25\n",
       "6  0.17  0.06 -1.06  0.96  0.44  1.11\n",
       "7  1.47 -1.61  1.08 -1.25 -0.50  0.25\n",
       "8  0.41  2.12 -1.28  0.06  1.97 -0.06\n",
       "9  0.25 -1.20 -2.06 -0.05 -2.54 -0.51"
      ]
     },
     "execution_count": 82,
     "metadata": {},
     "output_type": "execute_result"
    }
   ],
   "source": [
    "def df(a): return pd.DataFrame(np.round(a, 2))\n",
    "m, n = 10, 6\n",
    "X = np.random.randn(m, n)\n",
    "df(X)"
   ]
  },
  {
   "cell_type": "code",
   "execution_count": 83,
   "metadata": {},
   "outputs": [],
   "source": [
    "from scipy.linalg import svd as svd"
   ]
  },
  {
   "cell_type": "markdown",
   "metadata": {},
   "source": [
    "### `full_matrices=True`"
   ]
  },
  {
   "cell_type": "code",
   "execution_count": 84,
   "metadata": {},
   "outputs": [],
   "source": [
    "U, s, Vh = svd(X, full_matrices=True)"
   ]
  },
  {
   "cell_type": "code",
   "execution_count": 85,
   "metadata": {
    "scrolled": true
   },
   "outputs": [
    {
     "data": {
      "text/plain": [
       "((10, 6), (10, 10), (6,), (6, 6))"
      ]
     },
     "execution_count": 85,
     "metadata": {},
     "output_type": "execute_result"
    }
   ],
   "source": [
    "a.shape, U.shape, s.shape, Vh.shape"
   ]
  },
  {
   "cell_type": "code",
   "execution_count": 86,
   "metadata": {
    "scrolled": true
   },
   "outputs": [
    {
     "data": {
      "text/plain": [
       "(10, 6)"
      ]
     },
     "execution_count": 86,
     "metadata": {},
     "output_type": "execute_result"
    }
   ],
   "source": [
    "S = np.zeros((m, n))\n",
    "S[:n, :n] = np.diag(s)\n",
    "S.shape"
   ]
  },
  {
   "cell_type": "code",
   "execution_count": 87,
   "metadata": {},
   "outputs": [
    {
     "data": {
      "text/html": [
       "<div>\n",
       "<style scoped>\n",
       "    .dataframe tbody tr th:only-of-type {\n",
       "        vertical-align: middle;\n",
       "    }\n",
       "\n",
       "    .dataframe tbody tr th {\n",
       "        vertical-align: top;\n",
       "    }\n",
       "\n",
       "    .dataframe thead th {\n",
       "        text-align: right;\n",
       "    }\n",
       "</style>\n",
       "<table border=\"1\" class=\"dataframe\">\n",
       "  <thead>\n",
       "    <tr style=\"text-align: right;\">\n",
       "      <th></th>\n",
       "      <th>0</th>\n",
       "      <th>1</th>\n",
       "      <th>2</th>\n",
       "      <th>3</th>\n",
       "      <th>4</th>\n",
       "      <th>5</th>\n",
       "      <th>6</th>\n",
       "      <th>7</th>\n",
       "      <th>8</th>\n",
       "      <th>9</th>\n",
       "    </tr>\n",
       "  </thead>\n",
       "  <tbody>\n",
       "    <tr>\n",
       "      <th>0</th>\n",
       "      <td>-0.33</td>\n",
       "      <td>0.52</td>\n",
       "      <td>0.21</td>\n",
       "      <td>0.58</td>\n",
       "      <td>0.06</td>\n",
       "      <td>-0.01</td>\n",
       "      <td>0.30</td>\n",
       "      <td>-0.25</td>\n",
       "      <td>-0.05</td>\n",
       "      <td>0.28</td>\n",
       "    </tr>\n",
       "    <tr>\n",
       "      <th>1</th>\n",
       "      <td>0.25</td>\n",
       "      <td>-0.04</td>\n",
       "      <td>0.30</td>\n",
       "      <td>-0.48</td>\n",
       "      <td>-0.08</td>\n",
       "      <td>-0.05</td>\n",
       "      <td>0.48</td>\n",
       "      <td>-0.05</td>\n",
       "      <td>-0.30</td>\n",
       "      <td>0.54</td>\n",
       "    </tr>\n",
       "    <tr>\n",
       "      <th>2</th>\n",
       "      <td>-0.19</td>\n",
       "      <td>-0.10</td>\n",
       "      <td>-0.66</td>\n",
       "      <td>0.01</td>\n",
       "      <td>0.11</td>\n",
       "      <td>-0.20</td>\n",
       "      <td>0.00</td>\n",
       "      <td>0.19</td>\n",
       "      <td>0.26</td>\n",
       "      <td>0.61</td>\n",
       "    </tr>\n",
       "    <tr>\n",
       "      <th>3</th>\n",
       "      <td>-0.23</td>\n",
       "      <td>-0.22</td>\n",
       "      <td>-0.17</td>\n",
       "      <td>-0.16</td>\n",
       "      <td>-0.24</td>\n",
       "      <td>-0.37</td>\n",
       "      <td>0.08</td>\n",
       "      <td>-0.79</td>\n",
       "      <td>0.04</td>\n",
       "      <td>-0.15</td>\n",
       "    </tr>\n",
       "    <tr>\n",
       "      <th>4</th>\n",
       "      <td>0.25</td>\n",
       "      <td>-0.13</td>\n",
       "      <td>-0.11</td>\n",
       "      <td>0.32</td>\n",
       "      <td>-0.05</td>\n",
       "      <td>-0.11</td>\n",
       "      <td>-0.49</td>\n",
       "      <td>-0.15</td>\n",
       "      <td>-0.68</td>\n",
       "      <td>0.25</td>\n",
       "    </tr>\n",
       "    <tr>\n",
       "      <th>5</th>\n",
       "      <td>0.29</td>\n",
       "      <td>0.02</td>\n",
       "      <td>0.10</td>\n",
       "      <td>-0.06</td>\n",
       "      <td>0.26</td>\n",
       "      <td>0.51</td>\n",
       "      <td>-0.32</td>\n",
       "      <td>-0.48</td>\n",
       "      <td>0.40</td>\n",
       "      <td>0.30</td>\n",
       "    </tr>\n",
       "    <tr>\n",
       "      <th>6</th>\n",
       "      <td>0.14</td>\n",
       "      <td>-0.25</td>\n",
       "      <td>-0.42</td>\n",
       "      <td>0.26</td>\n",
       "      <td>-0.23</td>\n",
       "      <td>0.59</td>\n",
       "      <td>0.47</td>\n",
       "      <td>-0.08</td>\n",
       "      <td>-0.16</td>\n",
       "      <td>-0.12</td>\n",
       "    </tr>\n",
       "    <tr>\n",
       "      <th>7</th>\n",
       "      <td>-0.42</td>\n",
       "      <td>0.22</td>\n",
       "      <td>0.02</td>\n",
       "      <td>-0.25</td>\n",
       "      <td>-0.66</td>\n",
       "      <td>0.35</td>\n",
       "      <td>-0.32</td>\n",
       "      <td>0.08</td>\n",
       "      <td>-0.05</td>\n",
       "      <td>0.17</td>\n",
       "    </tr>\n",
       "    <tr>\n",
       "      <th>8</th>\n",
       "      <td>0.54</td>\n",
       "      <td>0.07</td>\n",
       "      <td>0.08</td>\n",
       "      <td>0.29</td>\n",
       "      <td>-0.60</td>\n",
       "      <td>-0.28</td>\n",
       "      <td>0.01</td>\n",
       "      <td>0.06</td>\n",
       "      <td>0.40</td>\n",
       "      <td>0.07</td>\n",
       "    </tr>\n",
       "    <tr>\n",
       "      <th>9</th>\n",
       "      <td>-0.31</td>\n",
       "      <td>-0.73</td>\n",
       "      <td>0.45</td>\n",
       "      <td>0.29</td>\n",
       "      <td>-0.05</td>\n",
       "      <td>0.05</td>\n",
       "      <td>-0.01</td>\n",
       "      <td>0.10</td>\n",
       "      <td>0.14</td>\n",
       "      <td>0.20</td>\n",
       "    </tr>\n",
       "  </tbody>\n",
       "</table>\n",
       "</div>"
      ],
      "text/plain": [
       "      0     1     2     3     4     5     6     7     8     9\n",
       "0 -0.33  0.52  0.21  0.58  0.06 -0.01  0.30 -0.25 -0.05  0.28\n",
       "1  0.25 -0.04  0.30 -0.48 -0.08 -0.05  0.48 -0.05 -0.30  0.54\n",
       "2 -0.19 -0.10 -0.66  0.01  0.11 -0.20  0.00  0.19  0.26  0.61\n",
       "3 -0.23 -0.22 -0.17 -0.16 -0.24 -0.37  0.08 -0.79  0.04 -0.15\n",
       "4  0.25 -0.13 -0.11  0.32 -0.05 -0.11 -0.49 -0.15 -0.68  0.25\n",
       "5  0.29  0.02  0.10 -0.06  0.26  0.51 -0.32 -0.48  0.40  0.30\n",
       "6  0.14 -0.25 -0.42  0.26 -0.23  0.59  0.47 -0.08 -0.16 -0.12\n",
       "7 -0.42  0.22  0.02 -0.25 -0.66  0.35 -0.32  0.08 -0.05  0.17\n",
       "8  0.54  0.07  0.08  0.29 -0.60 -0.28  0.01  0.06  0.40  0.07\n",
       "9 -0.31 -0.73  0.45  0.29 -0.05  0.05 -0.01  0.10  0.14  0.20"
      ]
     },
     "execution_count": 87,
     "metadata": {},
     "output_type": "execute_result"
    }
   ],
   "source": [
    "df(U)"
   ]
  },
  {
   "cell_type": "code",
   "execution_count": 88,
   "metadata": {},
   "outputs": [
    {
     "data": {
      "text/html": [
       "<div>\n",
       "<style scoped>\n",
       "    .dataframe tbody tr th:only-of-type {\n",
       "        vertical-align: middle;\n",
       "    }\n",
       "\n",
       "    .dataframe tbody tr th {\n",
       "        vertical-align: top;\n",
       "    }\n",
       "\n",
       "    .dataframe thead th {\n",
       "        text-align: right;\n",
       "    }\n",
       "</style>\n",
       "<table border=\"1\" class=\"dataframe\">\n",
       "  <thead>\n",
       "    <tr style=\"text-align: right;\">\n",
       "      <th></th>\n",
       "      <th>0</th>\n",
       "      <th>1</th>\n",
       "      <th>2</th>\n",
       "      <th>3</th>\n",
       "      <th>4</th>\n",
       "      <th>5</th>\n",
       "    </tr>\n",
       "  </thead>\n",
       "  <tbody>\n",
       "    <tr>\n",
       "      <th>0</th>\n",
       "      <td>5.31</td>\n",
       "      <td>0.00</td>\n",
       "      <td>0.00</td>\n",
       "      <td>0.00</td>\n",
       "      <td>0.0</td>\n",
       "      <td>0.00</td>\n",
       "    </tr>\n",
       "    <tr>\n",
       "      <th>1</th>\n",
       "      <td>0.00</td>\n",
       "      <td>3.82</td>\n",
       "      <td>0.00</td>\n",
       "      <td>0.00</td>\n",
       "      <td>0.0</td>\n",
       "      <td>0.00</td>\n",
       "    </tr>\n",
       "    <tr>\n",
       "      <th>2</th>\n",
       "      <td>0.00</td>\n",
       "      <td>0.00</td>\n",
       "      <td>2.68</td>\n",
       "      <td>0.00</td>\n",
       "      <td>0.0</td>\n",
       "      <td>0.00</td>\n",
       "    </tr>\n",
       "    <tr>\n",
       "      <th>3</th>\n",
       "      <td>0.00</td>\n",
       "      <td>0.00</td>\n",
       "      <td>0.00</td>\n",
       "      <td>2.11</td>\n",
       "      <td>0.0</td>\n",
       "      <td>0.00</td>\n",
       "    </tr>\n",
       "    <tr>\n",
       "      <th>4</th>\n",
       "      <td>0.00</td>\n",
       "      <td>0.00</td>\n",
       "      <td>0.00</td>\n",
       "      <td>0.00</td>\n",
       "      <td>1.9</td>\n",
       "      <td>0.00</td>\n",
       "    </tr>\n",
       "    <tr>\n",
       "      <th>5</th>\n",
       "      <td>0.00</td>\n",
       "      <td>0.00</td>\n",
       "      <td>0.00</td>\n",
       "      <td>0.00</td>\n",
       "      <td>0.0</td>\n",
       "      <td>0.91</td>\n",
       "    </tr>\n",
       "    <tr>\n",
       "      <th>6</th>\n",
       "      <td>0.00</td>\n",
       "      <td>0.00</td>\n",
       "      <td>0.00</td>\n",
       "      <td>0.00</td>\n",
       "      <td>0.0</td>\n",
       "      <td>0.00</td>\n",
       "    </tr>\n",
       "    <tr>\n",
       "      <th>7</th>\n",
       "      <td>0.00</td>\n",
       "      <td>0.00</td>\n",
       "      <td>0.00</td>\n",
       "      <td>0.00</td>\n",
       "      <td>0.0</td>\n",
       "      <td>0.00</td>\n",
       "    </tr>\n",
       "    <tr>\n",
       "      <th>8</th>\n",
       "      <td>0.00</td>\n",
       "      <td>0.00</td>\n",
       "      <td>0.00</td>\n",
       "      <td>0.00</td>\n",
       "      <td>0.0</td>\n",
       "      <td>0.00</td>\n",
       "    </tr>\n",
       "    <tr>\n",
       "      <th>9</th>\n",
       "      <td>0.00</td>\n",
       "      <td>0.00</td>\n",
       "      <td>0.00</td>\n",
       "      <td>0.00</td>\n",
       "      <td>0.0</td>\n",
       "      <td>0.00</td>\n",
       "    </tr>\n",
       "  </tbody>\n",
       "</table>\n",
       "</div>"
      ],
      "text/plain": [
       "      0     1     2     3    4     5\n",
       "0  5.31  0.00  0.00  0.00  0.0  0.00\n",
       "1  0.00  3.82  0.00  0.00  0.0  0.00\n",
       "2  0.00  0.00  2.68  0.00  0.0  0.00\n",
       "3  0.00  0.00  0.00  2.11  0.0  0.00\n",
       "4  0.00  0.00  0.00  0.00  1.9  0.00\n",
       "5  0.00  0.00  0.00  0.00  0.0  0.91\n",
       "6  0.00  0.00  0.00  0.00  0.0  0.00\n",
       "7  0.00  0.00  0.00  0.00  0.0  0.00\n",
       "8  0.00  0.00  0.00  0.00  0.0  0.00\n",
       "9  0.00  0.00  0.00  0.00  0.0  0.00"
      ]
     },
     "execution_count": 88,
     "metadata": {},
     "output_type": "execute_result"
    }
   ],
   "source": [
    "df(S)"
   ]
  },
  {
   "cell_type": "code",
   "execution_count": 89,
   "metadata": {},
   "outputs": [
    {
     "data": {
      "text/html": [
       "<div>\n",
       "<style scoped>\n",
       "    .dataframe tbody tr th:only-of-type {\n",
       "        vertical-align: middle;\n",
       "    }\n",
       "\n",
       "    .dataframe tbody tr th {\n",
       "        vertical-align: top;\n",
       "    }\n",
       "\n",
       "    .dataframe thead th {\n",
       "        text-align: right;\n",
       "    }\n",
       "</style>\n",
       "<table border=\"1\" class=\"dataframe\">\n",
       "  <thead>\n",
       "    <tr style=\"text-align: right;\">\n",
       "      <th></th>\n",
       "      <th>0</th>\n",
       "      <th>1</th>\n",
       "      <th>2</th>\n",
       "      <th>3</th>\n",
       "      <th>4</th>\n",
       "      <th>5</th>\n",
       "    </tr>\n",
       "  </thead>\n",
       "  <tbody>\n",
       "    <tr>\n",
       "      <th>0</th>\n",
       "      <td>-0.30</td>\n",
       "      <td>0.63</td>\n",
       "      <td>-0.36</td>\n",
       "      <td>0.10</td>\n",
       "      <td>0.62</td>\n",
       "      <td>0.02</td>\n",
       "    </tr>\n",
       "    <tr>\n",
       "      <th>1</th>\n",
       "      <td>0.20</td>\n",
       "      <td>0.33</td>\n",
       "      <td>0.84</td>\n",
       "      <td>-0.26</td>\n",
       "      <td>0.29</td>\n",
       "      <td>0.02</td>\n",
       "    </tr>\n",
       "    <tr>\n",
       "      <th>2</th>\n",
       "      <td>-0.06</td>\n",
       "      <td>0.35</td>\n",
       "      <td>-0.20</td>\n",
       "      <td>-0.69</td>\n",
       "      <td>-0.38</td>\n",
       "      <td>-0.46</td>\n",
       "    </tr>\n",
       "    <tr>\n",
       "      <th>3</th>\n",
       "      <td>0.50</td>\n",
       "      <td>0.58</td>\n",
       "      <td>-0.06</td>\n",
       "      <td>0.43</td>\n",
       "      <td>-0.46</td>\n",
       "      <td>0.14</td>\n",
       "    </tr>\n",
       "    <tr>\n",
       "      <th>4</th>\n",
       "      <td>-0.77</td>\n",
       "      <td>0.17</td>\n",
       "      <td>0.35</td>\n",
       "      <td>0.33</td>\n",
       "      <td>-0.38</td>\n",
       "      <td>-0.09</td>\n",
       "    </tr>\n",
       "    <tr>\n",
       "      <th>5</th>\n",
       "      <td>-0.19</td>\n",
       "      <td>0.09</td>\n",
       "      <td>-0.07</td>\n",
       "      <td>-0.40</td>\n",
       "      <td>-0.19</td>\n",
       "      <td>0.87</td>\n",
       "    </tr>\n",
       "  </tbody>\n",
       "</table>\n",
       "</div>"
      ],
      "text/plain": [
       "      0     1     2     3     4     5\n",
       "0 -0.30  0.63 -0.36  0.10  0.62  0.02\n",
       "1  0.20  0.33  0.84 -0.26  0.29  0.02\n",
       "2 -0.06  0.35 -0.20 -0.69 -0.38 -0.46\n",
       "3  0.50  0.58 -0.06  0.43 -0.46  0.14\n",
       "4 -0.77  0.17  0.35  0.33 -0.38 -0.09\n",
       "5 -0.19  0.09 -0.07 -0.40 -0.19  0.87"
      ]
     },
     "execution_count": 89,
     "metadata": {},
     "output_type": "execute_result"
    }
   ],
   "source": [
    "df(Vh)"
   ]
  },
  {
   "cell_type": "code",
   "execution_count": 90,
   "metadata": {
    "scrolled": true
   },
   "outputs": [
    {
     "data": {
      "text/plain": [
       "True"
      ]
     },
     "execution_count": 90,
     "metadata": {},
     "output_type": "execute_result"
    }
   ],
   "source": [
    "np.allclose(U @ S @ Vh, X)"
   ]
  },
  {
   "cell_type": "code",
   "execution_count": 91,
   "metadata": {},
   "outputs": [
    {
     "data": {
      "text/plain": [
       "True"
      ]
     },
     "execution_count": 91,
     "metadata": {},
     "output_type": "execute_result"
    }
   ],
   "source": [
    "np.allclose(U[:, :n] * s @ Vh, X)"
   ]
  },
  {
   "cell_type": "markdown",
   "metadata": {},
   "source": [
    "### keeping top n components"
   ]
  },
  {
   "cell_type": "code",
   "execution_count": 92,
   "metadata": {},
   "outputs": [
    {
     "name": "stdout",
     "output_type": "stream",
     "text": [
      "1.832488638310428e-29\n",
      "0.8280607837436921\n",
      "4.452900052234055\n",
      "8.892526589088346\n",
      "16.064942730916087\n"
     ]
    }
   ],
   "source": [
    "for top_n in range(6, 1, -1):\n",
    "    s_new = np.zeros(s.shape)\n",
    "    s_new[:top_n] = s[:top_n]\n",
    "    print(((X - U[:, :n] * s_new @ Vh)**2).sum())"
   ]
  },
  {
   "cell_type": "markdown",
   "metadata": {},
   "source": [
    "### removing 1st comp"
   ]
  },
  {
   "cell_type": "code",
   "execution_count": 101,
   "metadata": {},
   "outputs": [
    {
     "data": {
      "text/plain": [
       "(10, 1)"
      ]
     },
     "execution_count": 101,
     "metadata": {},
     "output_type": "execute_result"
    }
   ],
   "source": [
    "singular_vec_1st = U[:, 0][:, np.newaxis]\n",
    "singular_vec_1st.shape"
   ]
  },
  {
   "cell_type": "code",
   "execution_count": 103,
   "metadata": {},
   "outputs": [
    {
     "data": {
      "text/plain": [
       "array([[ 0.10833411, -0.08234837,  0.06096952,  0.07716797, -0.08369458,\n",
       "        -0.09428214, -0.04686913,  0.13962036, -0.1787996 ,  0.10291083],\n",
       "       [-0.08234837,  0.06259574, -0.04634496, -0.05865794,  0.06361904,\n",
       "         0.07166699,  0.03562679, -0.10613009,  0.13591153, -0.07822595],\n",
       "       [ 0.06096952, -0.04634496,  0.03431313,  0.04342948, -0.0471026 ,\n",
       "        -0.05306119, -0.02637755,  0.07857715, -0.1006269 ,  0.05791734],\n",
       "       [ 0.07716797, -0.05865794,  0.04342948,  0.05496787, -0.05961687,\n",
       "        -0.06715854, -0.03338556,  0.09945362, -0.12736156,  0.07330488],\n",
       "       [-0.08369458,  0.06361904, -0.0471026 , -0.05961687,  0.06465907,\n",
       "         0.07283859,  0.0362092 , -0.10786508,  0.13813339, -0.07950477],\n",
       "       [-0.09428214,  0.07166699, -0.05306119, -0.06715854,  0.07283859,\n",
       "         0.08205284,  0.04078975, -0.12151026,  0.15560758, -0.08956231],\n",
       "       [-0.04686913,  0.03562679, -0.02637755, -0.03338556,  0.0362092 ,\n",
       "         0.04078975,  0.02027722, -0.06040465,  0.07735497, -0.04452283],\n",
       "       [ 0.13962036, -0.10613009,  0.07857715,  0.09945362, -0.10786508,\n",
       "        -0.12151026, -0.06040465,  0.17994189, -0.23043586,  0.13263086],\n",
       "       [-0.1787996 ,  0.13591153, -0.1006269 , -0.12736156,  0.13813339,\n",
       "         0.15560758,  0.07735497, -0.23043586,  0.29509909, -0.16984877],\n",
       "       [ 0.10291083, -0.07822595,  0.05791734,  0.07330488, -0.07950477,\n",
       "        -0.08956231, -0.04452283,  0.13263086, -0.16984877,  0.09775904]])"
      ]
     },
     "execution_count": 103,
     "metadata": {},
     "output_type": "execute_result"
    }
   ],
   "source": [
    "singular_vec_1st @ singular_vec_1st.T"
   ]
  },
  {
   "cell_type": "code",
   "execution_count": 95,
   "metadata": {},
   "outputs": [
    {
     "data": {
      "text/plain": [
       "array([[ 0.10833411, -0.08234837,  0.06096952,  0.07716797, -0.08369458,\n",
       "        -0.09428214, -0.04686913,  0.13962036, -0.1787996 ,  0.10291083],\n",
       "       [-0.08234837,  0.06259574, -0.04634496, -0.05865794,  0.06361904,\n",
       "         0.07166699,  0.03562679, -0.10613009,  0.13591153, -0.07822595],\n",
       "       [ 0.06096952, -0.04634496,  0.03431313,  0.04342948, -0.0471026 ,\n",
       "        -0.05306119, -0.02637755,  0.07857715, -0.1006269 ,  0.05791734],\n",
       "       [ 0.07716797, -0.05865794,  0.04342948,  0.05496787, -0.05961687,\n",
       "        -0.06715854, -0.03338556,  0.09945362, -0.12736156,  0.07330488],\n",
       "       [-0.08369458,  0.06361904, -0.0471026 , -0.05961687,  0.06465907,\n",
       "         0.07283859,  0.0362092 , -0.10786508,  0.13813339, -0.07950477],\n",
       "       [-0.09428214,  0.07166699, -0.05306119, -0.06715854,  0.07283859,\n",
       "         0.08205284,  0.04078975, -0.12151026,  0.15560758, -0.08956231],\n",
       "       [-0.04686913,  0.03562679, -0.02637755, -0.03338556,  0.0362092 ,\n",
       "         0.04078975,  0.02027722, -0.06040465,  0.07735497, -0.04452283],\n",
       "       [ 0.13962036, -0.10613009,  0.07857715,  0.09945362, -0.10786508,\n",
       "        -0.12151026, -0.06040465,  0.17994189, -0.23043586,  0.13263086],\n",
       "       [-0.1787996 ,  0.13591153, -0.1006269 , -0.12736156,  0.13813339,\n",
       "         0.15560758,  0.07735497, -0.23043586,  0.29509909, -0.16984877],\n",
       "       [ 0.10291083, -0.07822595,  0.05791734,  0.07330488, -0.07950477,\n",
       "        -0.08956231, -0.04452283,  0.13263086, -0.16984877,  0.09775904]])"
      ]
     },
     "execution_count": 95,
     "metadata": {},
     "output_type": "execute_result"
    }
   ],
   "source": [
    "np.dot(singular_vec_1st, singular_vec_1st.T)"
   ]
  },
  {
   "cell_type": "code",
   "execution_count": null,
   "metadata": {},
   "outputs": [],
   "source": []
  }
 ],
 "metadata": {
  "kernelspec": {
   "display_name": "Python 3",
   "language": "python",
   "name": "python3"
  },
  "language_info": {
   "codemirror_mode": {
    "name": "ipython",
    "version": 3
   },
   "file_extension": ".py",
   "mimetype": "text/x-python",
   "name": "python",
   "nbconvert_exporter": "python",
   "pygments_lexer": "ipython3",
   "version": "3.6.4"
  },
  "toc": {
   "base_numbering": 1,
   "nav_menu": {},
   "number_sections": true,
   "sideBar": true,
   "skip_h1_title": false,
   "title_cell": "Table of Contents",
   "title_sidebar": "Contents",
   "toc_cell": false,
   "toc_position": {},
   "toc_section_display": true,
   "toc_window_display": false
  }
 },
 "nbformat": 4,
 "nbformat_minor": 2
}
