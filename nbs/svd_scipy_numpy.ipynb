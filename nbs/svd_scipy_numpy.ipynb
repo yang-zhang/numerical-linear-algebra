{
 "cells": [
  {
   "cell_type": "code",
   "execution_count": 84,
   "metadata": {},
   "outputs": [],
   "source": [
    "import pandas as pd\n",
    "import scipy \n",
    "import numpy as np"
   ]
  },
  {
   "cell_type": "code",
   "execution_count": 85,
   "metadata": {},
   "outputs": [
    {
     "data": {
      "text/html": [
       "<div>\n",
       "<style scoped>\n",
       "    .dataframe tbody tr th:only-of-type {\n",
       "        vertical-align: middle;\n",
       "    }\n",
       "\n",
       "    .dataframe tbody tr th {\n",
       "        vertical-align: top;\n",
       "    }\n",
       "\n",
       "    .dataframe thead th {\n",
       "        text-align: right;\n",
       "    }\n",
       "</style>\n",
       "<table border=\"1\" class=\"dataframe\">\n",
       "  <thead>\n",
       "    <tr style=\"text-align: right;\">\n",
       "      <th></th>\n",
       "      <th>0</th>\n",
       "      <th>1</th>\n",
       "      <th>2</th>\n",
       "      <th>3</th>\n",
       "      <th>4</th>\n",
       "      <th>5</th>\n",
       "    </tr>\n",
       "  </thead>\n",
       "  <tbody>\n",
       "    <tr>\n",
       "      <th>0</th>\n",
       "      <td>(-0.89-0.32j)</td>\n",
       "      <td>(1.43+0.13j)</td>\n",
       "      <td>(-0.71+0.61j)</td>\n",
       "      <td>(-1.08+1.42j)</td>\n",
       "      <td>(-0.03-0.27j)</td>\n",
       "      <td>(-0.32-0.12j)</td>\n",
       "    </tr>\n",
       "    <tr>\n",
       "      <th>1</th>\n",
       "      <td>(-0.26+1.22j)</td>\n",
       "      <td>(-0.77+1.21j)</td>\n",
       "      <td>(-0.93-1.71j)</td>\n",
       "      <td>(-1.91-0.17j)</td>\n",
       "      <td>(0.74-0.36j)</td>\n",
       "      <td>(1.3-0.63j)</td>\n",
       "    </tr>\n",
       "    <tr>\n",
       "      <th>2</th>\n",
       "      <td>(0.93-0.95j)</td>\n",
       "      <td>(-0.77+0.43j)</td>\n",
       "      <td>(-0.04-0.2j)</td>\n",
       "      <td>(-1.51-0.7j)</td>\n",
       "      <td>(0.47-0.84j)</td>\n",
       "      <td>(2.18-0.27j)</td>\n",
       "    </tr>\n",
       "    <tr>\n",
       "      <th>3</th>\n",
       "      <td>(-0.75-0.97j)</td>\n",
       "      <td>(0.07+0.78j)</td>\n",
       "      <td>(-1.89+1.23j)</td>\n",
       "      <td>(1.32-0.45j)</td>\n",
       "      <td>(-0.93-0.58j)</td>\n",
       "      <td>(0.53+0.57j)</td>\n",
       "    </tr>\n",
       "    <tr>\n",
       "      <th>4</th>\n",
       "      <td>(-1.01+0.19j)</td>\n",
       "      <td>(-0.33+0.73j)</td>\n",
       "      <td>(0.58+0.16j)</td>\n",
       "      <td>(-0.14+0.3j)</td>\n",
       "      <td>(-1.48+0.28j)</td>\n",
       "      <td>(0.82+0.33j)</td>\n",
       "    </tr>\n",
       "    <tr>\n",
       "      <th>5</th>\n",
       "      <td>(1.06-0.96j)</td>\n",
       "      <td>(0.18+0.13j)</td>\n",
       "      <td>(0.38+1.22j)</td>\n",
       "      <td>(-0.13+0.86j)</td>\n",
       "      <td>(0.86-0.52j)</td>\n",
       "      <td>(-0.82-0.67j)</td>\n",
       "    </tr>\n",
       "    <tr>\n",
       "      <th>6</th>\n",
       "      <td>(-0.58+0.84j)</td>\n",
       "      <td>(-3.08-0.36j)</td>\n",
       "      <td>(1.66+0.37j)</td>\n",
       "      <td>(-0.44-1.52j)</td>\n",
       "      <td>(-0.56+1.08j)</td>\n",
       "      <td>(-0.52+1.42j)</td>\n",
       "    </tr>\n",
       "    <tr>\n",
       "      <th>7</th>\n",
       "      <td>(-0.41+0.02j)</td>\n",
       "      <td>(0.61-0.73j)</td>\n",
       "      <td>(0.86+1.59j)</td>\n",
       "      <td>(-0.67-1.86j)</td>\n",
       "      <td>(-2.33+1.56j)</td>\n",
       "      <td>(0.94-0.28j)</td>\n",
       "    </tr>\n",
       "    <tr>\n",
       "      <th>8</th>\n",
       "      <td>(0.52-0.68j)</td>\n",
       "      <td>(0.12-0.8j)</td>\n",
       "      <td>(-0.42-0.77j)</td>\n",
       "      <td>(-1.57+0.47j)</td>\n",
       "      <td>(-0.35-0.05j)</td>\n",
       "      <td>(-0.27-0.45j)</td>\n",
       "    </tr>\n",
       "  </tbody>\n",
       "</table>\n",
       "</div>"
      ],
      "text/plain": [
       "               0              1              2              3              4  \\\n",
       "0  (-0.89-0.32j)   (1.43+0.13j)  (-0.71+0.61j)  (-1.08+1.42j)  (-0.03-0.27j)   \n",
       "1  (-0.26+1.22j)  (-0.77+1.21j)  (-0.93-1.71j)  (-1.91-0.17j)   (0.74-0.36j)   \n",
       "2   (0.93-0.95j)  (-0.77+0.43j)   (-0.04-0.2j)   (-1.51-0.7j)   (0.47-0.84j)   \n",
       "3  (-0.75-0.97j)   (0.07+0.78j)  (-1.89+1.23j)   (1.32-0.45j)  (-0.93-0.58j)   \n",
       "4  (-1.01+0.19j)  (-0.33+0.73j)   (0.58+0.16j)   (-0.14+0.3j)  (-1.48+0.28j)   \n",
       "5   (1.06-0.96j)   (0.18+0.13j)   (0.38+1.22j)  (-0.13+0.86j)   (0.86-0.52j)   \n",
       "6  (-0.58+0.84j)  (-3.08-0.36j)   (1.66+0.37j)  (-0.44-1.52j)  (-0.56+1.08j)   \n",
       "7  (-0.41+0.02j)   (0.61-0.73j)   (0.86+1.59j)  (-0.67-1.86j)  (-2.33+1.56j)   \n",
       "8   (0.52-0.68j)    (0.12-0.8j)  (-0.42-0.77j)  (-1.57+0.47j)  (-0.35-0.05j)   \n",
       "\n",
       "               5  \n",
       "0  (-0.32-0.12j)  \n",
       "1    (1.3-0.63j)  \n",
       "2   (2.18-0.27j)  \n",
       "3   (0.53+0.57j)  \n",
       "4   (0.82+0.33j)  \n",
       "5  (-0.82-0.67j)  \n",
       "6  (-0.52+1.42j)  \n",
       "7   (0.94-0.28j)  \n",
       "8  (-0.27-0.45j)  "
      ]
     },
     "execution_count": 85,
     "metadata": {},
     "output_type": "execute_result"
    }
   ],
   "source": [
    "def df(a): return pd.DataFrame(np.round(a, 2))\n",
    "\n",
    "a = np.random.randn(9, 6) + 1j*np.random.randn(9, 6)\n",
    "df(a)"
   ]
  },
  {
   "cell_type": "markdown",
   "metadata": {},
   "source": [
    "Either numpy or scipy svd"
   ]
  },
  {
   "cell_type": "code",
   "execution_count": 102,
   "metadata": {},
   "outputs": [],
   "source": [
    "from numpy.linalg import svd as svd"
   ]
  },
  {
   "cell_type": "code",
   "execution_count": 87,
   "metadata": {},
   "outputs": [],
   "source": [
    "from scipy.linalg import svd as svd"
   ]
  },
  {
   "cell_type": "markdown",
   "metadata": {},
   "source": [
    "#### `full_matrices=True`"
   ]
  },
  {
   "cell_type": "code",
   "execution_count": 103,
   "metadata": {},
   "outputs": [],
   "source": [
    "u, s, vh = svd(a, full_matrices=True)"
   ]
  },
  {
   "cell_type": "code",
   "execution_count": 104,
   "metadata": {
    "scrolled": true
   },
   "outputs": [
    {
     "data": {
      "text/plain": [
       "((9, 6), (9, 9), (6,), (6, 6))"
      ]
     },
     "execution_count": 104,
     "metadata": {},
     "output_type": "execute_result"
    }
   ],
   "source": [
    "a.shape, u.shape, s.shape, vh.shape"
   ]
  },
  {
   "cell_type": "code",
   "execution_count": 105,
   "metadata": {
    "scrolled": true
   },
   "outputs": [
    {
     "data": {
      "text/plain": [
       "(9, 6)"
      ]
     },
     "execution_count": 105,
     "metadata": {},
     "output_type": "execute_result"
    }
   ],
   "source": [
    "S = np.zeros((9, 6), dtype=complex)\n",
    "S[:6, :6] = np.diag(s)\n",
    "S.shape"
   ]
  },
  {
   "cell_type": "code",
   "execution_count": 106,
   "metadata": {},
   "outputs": [
    {
     "data": {
      "text/plain": [
       "True"
      ]
     },
     "execution_count": 106,
     "metadata": {},
     "output_type": "execute_result"
    }
   ],
   "source": [
    "np.allclose(a, u[:, :6] * s @ vh)"
   ]
  },
  {
   "cell_type": "code",
   "execution_count": 107,
   "metadata": {
    "scrolled": true
   },
   "outputs": [
    {
     "data": {
      "text/plain": [
       "True"
      ]
     },
     "execution_count": 107,
     "metadata": {},
     "output_type": "execute_result"
    }
   ],
   "source": [
    "np.allclose(a, u @ S @ vh )"
   ]
  },
  {
   "cell_type": "markdown",
   "metadata": {},
   "source": [
    "#### `full_matrices=False`"
   ]
  },
  {
   "cell_type": "code",
   "execution_count": 108,
   "metadata": {},
   "outputs": [
    {
     "data": {
      "text/plain": [
       "((9, 6), (9, 6), (6,), (6, 6))"
      ]
     },
     "execution_count": 108,
     "metadata": {},
     "output_type": "execute_result"
    }
   ],
   "source": [
    "u, s, vh = svd(a, full_matrices=False)\n",
    "\n",
    "a.shape, u.shape, s.shape, vh.shape"
   ]
  },
  {
   "cell_type": "code",
   "execution_count": 109,
   "metadata": {},
   "outputs": [
    {
     "data": {
      "text/plain": [
       "True"
      ]
     },
     "execution_count": 109,
     "metadata": {},
     "output_type": "execute_result"
    }
   ],
   "source": [
    "np.allclose(a, u * s @ vh)"
   ]
  },
  {
   "cell_type": "code",
   "execution_count": 110,
   "metadata": {},
   "outputs": [
    {
     "data": {
      "text/plain": [
       "True"
      ]
     },
     "execution_count": 110,
     "metadata": {},
     "output_type": "execute_result"
    }
   ],
   "source": [
    "S = np.diag(s)\n",
    "np.allclose(a, u @ S @ vh)"
   ]
  },
  {
   "cell_type": "code",
   "execution_count": null,
   "metadata": {},
   "outputs": [],
   "source": []
  },
  {
   "cell_type": "code",
   "execution_count": null,
   "metadata": {},
   "outputs": [],
   "source": []
  }
 ],
 "metadata": {
  "kernelspec": {
   "display_name": "Python 3",
   "language": "python",
   "name": "python3"
  },
  "language_info": {
   "codemirror_mode": {
    "name": "ipython",
    "version": 3
   },
   "file_extension": ".py",
   "mimetype": "text/x-python",
   "name": "python",
   "nbconvert_exporter": "python",
   "pygments_lexer": "ipython3",
   "version": "3.6.4"
  },
  "toc": {
   "base_numbering": 1,
   "nav_menu": {},
   "number_sections": true,
   "sideBar": true,
   "skip_h1_title": false,
   "title_cell": "Table of Contents",
   "title_sidebar": "Contents",
   "toc_cell": false,
   "toc_position": {},
   "toc_section_display": true,
   "toc_window_display": true
  }
 },
 "nbformat": 4,
 "nbformat_minor": 2
}
