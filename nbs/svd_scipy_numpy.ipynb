{
 "cells": [
  {
   "cell_type": "code",
   "execution_count": 1,
   "metadata": {},
   "outputs": [],
   "source": [
    "import pandas as pd\n",
    "import scipy \n",
    "import numpy as np"
   ]
  },
  {
   "cell_type": "markdown",
   "metadata": {},
   "source": [
    "Either numpy or scipy svd"
   ]
  },
  {
   "cell_type": "code",
   "execution_count": 2,
   "metadata": {},
   "outputs": [],
   "source": [
    "from numpy.linalg import svd as svd"
   ]
  },
  {
   "cell_type": "code",
   "execution_count": 3,
   "metadata": {},
   "outputs": [],
   "source": [
    "from scipy.linalg import svd as svd"
   ]
  },
  {
   "cell_type": "code",
   "execution_count": 4,
   "metadata": {},
   "outputs": [],
   "source": [
    "def df(a): return pd.DataFrame(np.round(a, 2))"
   ]
  },
  {
   "cell_type": "markdown",
   "metadata": {},
   "source": [
    "## `m > n`"
   ]
  },
  {
   "cell_type": "code",
   "execution_count": 5,
   "metadata": {},
   "outputs": [],
   "source": [
    "m, n = 10, 5"
   ]
  },
  {
   "cell_type": "code",
   "execution_count": 6,
   "metadata": {},
   "outputs": [
    {
     "data": {
      "text/html": [
       "<div>\n",
       "<style scoped>\n",
       "    .dataframe tbody tr th:only-of-type {\n",
       "        vertical-align: middle;\n",
       "    }\n",
       "\n",
       "    .dataframe tbody tr th {\n",
       "        vertical-align: top;\n",
       "    }\n",
       "\n",
       "    .dataframe thead th {\n",
       "        text-align: right;\n",
       "    }\n",
       "</style>\n",
       "<table border=\"1\" class=\"dataframe\">\n",
       "  <thead>\n",
       "    <tr style=\"text-align: right;\">\n",
       "      <th></th>\n",
       "      <th>0</th>\n",
       "      <th>1</th>\n",
       "      <th>2</th>\n",
       "      <th>3</th>\n",
       "      <th>4</th>\n",
       "    </tr>\n",
       "  </thead>\n",
       "  <tbody>\n",
       "    <tr>\n",
       "      <th>0</th>\n",
       "      <td>(-1.54-0.83j)</td>\n",
       "      <td>(-0.31+0.12j)</td>\n",
       "      <td>(1.03+0.35j)</td>\n",
       "      <td>(-1.36+0.34j)</td>\n",
       "      <td>(-0.47+0.92j)</td>\n",
       "    </tr>\n",
       "    <tr>\n",
       "      <th>1</th>\n",
       "      <td>(-1.9+0.69j)</td>\n",
       "      <td>(0.99+0.82j)</td>\n",
       "      <td>(1.36+0.89j)</td>\n",
       "      <td>(-0.49+0.91j)</td>\n",
       "      <td>(-0.1-2.94j)</td>\n",
       "    </tr>\n",
       "    <tr>\n",
       "      <th>2</th>\n",
       "      <td>(-0.63+1.57j)</td>\n",
       "      <td>(0.83+1.8j)</td>\n",
       "      <td>(0.74-0.87j)</td>\n",
       "      <td>(-0.34+0.2j)</td>\n",
       "      <td>(-0.42-1.59j)</td>\n",
       "    </tr>\n",
       "    <tr>\n",
       "      <th>3</th>\n",
       "      <td>(0.33+0.01j)</td>\n",
       "      <td>(1.51+0.43j)</td>\n",
       "      <td>(-1.04-2.25j)</td>\n",
       "      <td>(-0.97+1.15j)</td>\n",
       "      <td>(0.62-0.45j)</td>\n",
       "    </tr>\n",
       "    <tr>\n",
       "      <th>4</th>\n",
       "      <td>(1.62+0.25j)</td>\n",
       "      <td>(-0.47+0.69j)</td>\n",
       "      <td>(0.98-1.74j)</td>\n",
       "      <td>(1.11-0.48j)</td>\n",
       "      <td>(0.53+0.75j)</td>\n",
       "    </tr>\n",
       "    <tr>\n",
       "      <th>5</th>\n",
       "      <td>(-0.15+1.18j)</td>\n",
       "      <td>(1.81-1.32j)</td>\n",
       "      <td>(-2.9-1.71j)</td>\n",
       "      <td>(-0.93+2.66j)</td>\n",
       "      <td>(-0.58+0.04j)</td>\n",
       "    </tr>\n",
       "    <tr>\n",
       "      <th>6</th>\n",
       "      <td>(-0.5+1.77j)</td>\n",
       "      <td>(0.31-0.26j)</td>\n",
       "      <td>(-0.5-0.3j)</td>\n",
       "      <td>(0.58-0.24j)</td>\n",
       "      <td>(2.18+0.53j)</td>\n",
       "    </tr>\n",
       "    <tr>\n",
       "      <th>7</th>\n",
       "      <td>(-0.75-0.78j)</td>\n",
       "      <td>(-0.16-0.46j)</td>\n",
       "      <td>(1.06-1.24j)</td>\n",
       "      <td>(0.32-1.69j)</td>\n",
       "      <td>(-2.11-0.62j)</td>\n",
       "    </tr>\n",
       "    <tr>\n",
       "      <th>8</th>\n",
       "      <td>(-0.3+0.13j)</td>\n",
       "      <td>(0.86-1.25j)</td>\n",
       "      <td>(-0.99+0.71j)</td>\n",
       "      <td>(1.01+0.65j)</td>\n",
       "      <td>(-1.14-1.7j)</td>\n",
       "    </tr>\n",
       "    <tr>\n",
       "      <th>9</th>\n",
       "      <td>(1.17+0.16j)</td>\n",
       "      <td>(-1.21+1.27j)</td>\n",
       "      <td>(-0.61-1.82j)</td>\n",
       "      <td>(-1.11+0.72j)</td>\n",
       "      <td>(0.85+0.1j)</td>\n",
       "    </tr>\n",
       "  </tbody>\n",
       "</table>\n",
       "</div>"
      ],
      "text/plain": [
       "               0              1              2              3              4\n",
       "0  (-1.54-0.83j)  (-0.31+0.12j)   (1.03+0.35j)  (-1.36+0.34j)  (-0.47+0.92j)\n",
       "1   (-1.9+0.69j)   (0.99+0.82j)   (1.36+0.89j)  (-0.49+0.91j)   (-0.1-2.94j)\n",
       "2  (-0.63+1.57j)    (0.83+1.8j)   (0.74-0.87j)   (-0.34+0.2j)  (-0.42-1.59j)\n",
       "3   (0.33+0.01j)   (1.51+0.43j)  (-1.04-2.25j)  (-0.97+1.15j)   (0.62-0.45j)\n",
       "4   (1.62+0.25j)  (-0.47+0.69j)   (0.98-1.74j)   (1.11-0.48j)   (0.53+0.75j)\n",
       "5  (-0.15+1.18j)   (1.81-1.32j)   (-2.9-1.71j)  (-0.93+2.66j)  (-0.58+0.04j)\n",
       "6   (-0.5+1.77j)   (0.31-0.26j)    (-0.5-0.3j)   (0.58-0.24j)   (2.18+0.53j)\n",
       "7  (-0.75-0.78j)  (-0.16-0.46j)   (1.06-1.24j)   (0.32-1.69j)  (-2.11-0.62j)\n",
       "8   (-0.3+0.13j)   (0.86-1.25j)  (-0.99+0.71j)   (1.01+0.65j)   (-1.14-1.7j)\n",
       "9   (1.17+0.16j)  (-1.21+1.27j)  (-0.61-1.82j)  (-1.11+0.72j)    (0.85+0.1j)"
      ]
     },
     "execution_count": 6,
     "metadata": {},
     "output_type": "execute_result"
    }
   ],
   "source": [
    "a = np.random.randn(m, n) + 1j*np.random.randn(m, n)\n",
    "df(a)"
   ]
  },
  {
   "cell_type": "markdown",
   "metadata": {},
   "source": [
    "#### `full_matrices=True`"
   ]
  },
  {
   "cell_type": "code",
   "execution_count": 7,
   "metadata": {},
   "outputs": [],
   "source": [
    "u, s, vh = svd(a, full_matrices=True)"
   ]
  },
  {
   "cell_type": "code",
   "execution_count": 8,
   "metadata": {
    "scrolled": false
   },
   "outputs": [
    {
     "data": {
      "text/plain": [
       "((10, 5), (10, 10), (5,), (5, 5))"
      ]
     },
     "execution_count": 8,
     "metadata": {},
     "output_type": "execute_result"
    }
   ],
   "source": [
    "a.shape, u.shape, s.shape, vh.shape"
   ]
  },
  {
   "cell_type": "code",
   "execution_count": 9,
   "metadata": {
    "scrolled": true
   },
   "outputs": [
    {
     "data": {
      "text/html": [
       "<div>\n",
       "<style scoped>\n",
       "    .dataframe tbody tr th:only-of-type {\n",
       "        vertical-align: middle;\n",
       "    }\n",
       "\n",
       "    .dataframe tbody tr th {\n",
       "        vertical-align: top;\n",
       "    }\n",
       "\n",
       "    .dataframe thead th {\n",
       "        text-align: right;\n",
       "    }\n",
       "</style>\n",
       "<table border=\"1\" class=\"dataframe\">\n",
       "  <thead>\n",
       "    <tr style=\"text-align: right;\">\n",
       "      <th></th>\n",
       "      <th>0</th>\n",
       "      <th>1</th>\n",
       "      <th>2</th>\n",
       "      <th>3</th>\n",
       "      <th>4</th>\n",
       "      <th>5</th>\n",
       "      <th>6</th>\n",
       "      <th>7</th>\n",
       "      <th>8</th>\n",
       "      <th>9</th>\n",
       "    </tr>\n",
       "  </thead>\n",
       "  <tbody>\n",
       "    <tr>\n",
       "      <th>0</th>\n",
       "      <td>(-0.17-0.08j)</td>\n",
       "      <td>(-0.02+0.03j)</td>\n",
       "      <td>(0.44+0.13j)</td>\n",
       "      <td>(0.18-0.13j)</td>\n",
       "      <td>(-0.14+0.21j)</td>\n",
       "      <td>(0.04-0.39j)</td>\n",
       "      <td>(0.11-0.35j)</td>\n",
       "      <td>(-0.32+0.01j)</td>\n",
       "      <td>(0.06+0.02j)</td>\n",
       "      <td>(0.21-0.44j)</td>\n",
       "    </tr>\n",
       "    <tr>\n",
       "      <th>1</th>\n",
       "      <td>(-0.12+0.07j)</td>\n",
       "      <td>(-0.66-0j)</td>\n",
       "      <td>(0.14-0.16j)</td>\n",
       "      <td>(0.09+0.05j)</td>\n",
       "      <td>(0.03+0.02j)</td>\n",
       "      <td>(-0.26-0.21j)</td>\n",
       "      <td>(-0.04+0.22j)</td>\n",
       "      <td>(0.19-0.3j)</td>\n",
       "      <td>(-0.21-0.33j)</td>\n",
       "      <td>(0.19+0.05j)</td>\n",
       "    </tr>\n",
       "    <tr>\n",
       "      <th>2</th>\n",
       "      <td>(-0.22+0.19j)</td>\n",
       "      <td>(-0.31+0.11j)</td>\n",
       "      <td>(-0.11-0.19j)</td>\n",
       "      <td>(0.06-0.01j)</td>\n",
       "      <td>(0.2-0.52j)</td>\n",
       "      <td>(0.42-0.27j)</td>\n",
       "      <td>(-0.07-0.08j)</td>\n",
       "      <td>(-0.29+0.21j)</td>\n",
       "      <td>(0.06+0.16j)</td>\n",
       "      <td>(-0.04+0.15j)</td>\n",
       "    </tr>\n",
       "    <tr>\n",
       "      <th>3</th>\n",
       "      <td>(-0.07+0.44j)</td>\n",
       "      <td>(0.04-0.06j)</td>\n",
       "      <td>(-0.1+0.08j)</td>\n",
       "      <td>(-0.04-0.09j)</td>\n",
       "      <td>(-0.07+0.23j)</td>\n",
       "      <td>(-0.12-0.01j)</td>\n",
       "      <td>(0.14-0.52j)</td>\n",
       "      <td>(-0.2-0.16j)</td>\n",
       "      <td>(-0.07-0.2j)</td>\n",
       "      <td>(-0.08+0.54j)</td>\n",
       "    </tr>\n",
       "    <tr>\n",
       "      <th>4</th>\n",
       "      <td>(-0.15-0.02j)</td>\n",
       "      <td>(0.25+0.06j)</td>\n",
       "      <td>(-0.45-0.17j)</td>\n",
       "      <td>(-0.12-0.31j)</td>\n",
       "      <td>(0.11+0.13j)</td>\n",
       "      <td>(0.23-0.19j)</td>\n",
       "      <td>(-0.32+0.01j)</td>\n",
       "      <td>(0.03-0.44j)</td>\n",
       "      <td>(0.15-0.23j)</td>\n",
       "      <td>(0.21-0.19j)</td>\n",
       "    </tr>\n",
       "    <tr>\n",
       "      <th>5</th>\n",
       "      <td>(0.27+0.6j)</td>\n",
       "      <td>(0.1+0.12j)</td>\n",
       "      <td>(0.24-0.01j)</td>\n",
       "      <td>(0.09+0.13j)</td>\n",
       "      <td>(0.05+0.2j)</td>\n",
       "      <td>(0.49-0.04j)</td>\n",
       "      <td>(0.06+0.21j)</td>\n",
       "      <td>(0.19-0.02j)</td>\n",
       "      <td>(-0.09-0.16j)</td>\n",
       "      <td>(-0.14-0.19j)</td>\n",
       "    </tr>\n",
       "    <tr>\n",
       "      <th>6</th>\n",
       "      <td>0.09j</td>\n",
       "      <td>(0.11-0.16j)</td>\n",
       "      <td>(0.03-0.44j)</td>\n",
       "      <td>(-0.57+0.28j)</td>\n",
       "      <td>(-0.03-0.13j)</td>\n",
       "      <td>(-0.02-0.01j)</td>\n",
       "      <td>(0.4-0.13j)</td>\n",
       "      <td>(0.04+0.06j)</td>\n",
       "      <td>-0.07j</td>\n",
       "      <td>(0.35-0.15j)</td>\n",
       "    </tr>\n",
       "    <tr>\n",
       "      <th>7</th>\n",
       "      <td>(-0.14-0.12j)</td>\n",
       "      <td>(-0.1+0.36j)</td>\n",
       "      <td>(-0.1+0.37j)</td>\n",
       "      <td>(-0.29+0.08j)</td>\n",
       "      <td>(0.46+0.18j)</td>\n",
       "      <td>(0.03-0.23j)</td>\n",
       "      <td>(0.13-0.22j)</td>\n",
       "      <td>(0.43+0.14j)</td>\n",
       "      <td>(-0.09+0.1j)</td>\n",
       "      <td>(-0.03+0.01j)</td>\n",
       "    </tr>\n",
       "    <tr>\n",
       "      <th>8</th>\n",
       "      <td>(0.31+0.07j)</td>\n",
       "      <td>(-0.29+0.13j)</td>\n",
       "      <td>(-0.02+0.08j)</td>\n",
       "      <td>(-0.1+0.09j)</td>\n",
       "      <td>(0.2+0.1j)</td>\n",
       "      <td>(-0.13+0.08j)</td>\n",
       "      <td>(0.1+0.04j)</td>\n",
       "      <td>(-0.21-0.14j)</td>\n",
       "      <td>(0.79-0.01j)</td>\n",
       "      <td>(-0.04-0.05j)</td>\n",
       "    </tr>\n",
       "    <tr>\n",
       "      <th>9</th>\n",
       "      <td>(-0.17+0.2j)</td>\n",
       "      <td>(0.24-0.16j)</td>\n",
       "      <td>(-0.2-0.06j)</td>\n",
       "      <td>(0.52+0.04j)</td>\n",
       "      <td>(0.42+0.08j)</td>\n",
       "      <td>(-0.24-0.05j)</td>\n",
       "      <td>(0.28+0.18j)</td>\n",
       "      <td>(0.03+0.25j)</td>\n",
       "      <td>(0.1-0.03j)</td>\n",
       "      <td>(0.32-0j)</td>\n",
       "    </tr>\n",
       "  </tbody>\n",
       "</table>\n",
       "</div>"
      ],
      "text/plain": [
       "               0              1              2              3              4  \\\n",
       "0  (-0.17-0.08j)  (-0.02+0.03j)   (0.44+0.13j)   (0.18-0.13j)  (-0.14+0.21j)   \n",
       "1  (-0.12+0.07j)     (-0.66-0j)   (0.14-0.16j)   (0.09+0.05j)   (0.03+0.02j)   \n",
       "2  (-0.22+0.19j)  (-0.31+0.11j)  (-0.11-0.19j)   (0.06-0.01j)    (0.2-0.52j)   \n",
       "3  (-0.07+0.44j)   (0.04-0.06j)   (-0.1+0.08j)  (-0.04-0.09j)  (-0.07+0.23j)   \n",
       "4  (-0.15-0.02j)   (0.25+0.06j)  (-0.45-0.17j)  (-0.12-0.31j)   (0.11+0.13j)   \n",
       "5    (0.27+0.6j)    (0.1+0.12j)   (0.24-0.01j)   (0.09+0.13j)    (0.05+0.2j)   \n",
       "6          0.09j   (0.11-0.16j)   (0.03-0.44j)  (-0.57+0.28j)  (-0.03-0.13j)   \n",
       "7  (-0.14-0.12j)   (-0.1+0.36j)   (-0.1+0.37j)  (-0.29+0.08j)   (0.46+0.18j)   \n",
       "8   (0.31+0.07j)  (-0.29+0.13j)  (-0.02+0.08j)   (-0.1+0.09j)     (0.2+0.1j)   \n",
       "9   (-0.17+0.2j)   (0.24-0.16j)   (-0.2-0.06j)   (0.52+0.04j)   (0.42+0.08j)   \n",
       "\n",
       "               5              6              7              8              9  \n",
       "0   (0.04-0.39j)   (0.11-0.35j)  (-0.32+0.01j)   (0.06+0.02j)   (0.21-0.44j)  \n",
       "1  (-0.26-0.21j)  (-0.04+0.22j)    (0.19-0.3j)  (-0.21-0.33j)   (0.19+0.05j)  \n",
       "2   (0.42-0.27j)  (-0.07-0.08j)  (-0.29+0.21j)   (0.06+0.16j)  (-0.04+0.15j)  \n",
       "3  (-0.12-0.01j)   (0.14-0.52j)   (-0.2-0.16j)   (-0.07-0.2j)  (-0.08+0.54j)  \n",
       "4   (0.23-0.19j)  (-0.32+0.01j)   (0.03-0.44j)   (0.15-0.23j)   (0.21-0.19j)  \n",
       "5   (0.49-0.04j)   (0.06+0.21j)   (0.19-0.02j)  (-0.09-0.16j)  (-0.14-0.19j)  \n",
       "6  (-0.02-0.01j)    (0.4-0.13j)   (0.04+0.06j)         -0.07j   (0.35-0.15j)  \n",
       "7   (0.03-0.23j)   (0.13-0.22j)   (0.43+0.14j)   (-0.09+0.1j)  (-0.03+0.01j)  \n",
       "8  (-0.13+0.08j)    (0.1+0.04j)  (-0.21-0.14j)   (0.79-0.01j)  (-0.04-0.05j)  \n",
       "9  (-0.24-0.05j)   (0.28+0.18j)   (0.03+0.25j)    (0.1-0.03j)      (0.32-0j)  "
      ]
     },
     "execution_count": 9,
     "metadata": {},
     "output_type": "execute_result"
    }
   ],
   "source": [
    "df(u)"
   ]
  },
  {
   "cell_type": "code",
   "execution_count": 10,
   "metadata": {},
   "outputs": [
    {
     "data": {
      "text/html": [
       "<div>\n",
       "<style scoped>\n",
       "    .dataframe tbody tr th:only-of-type {\n",
       "        vertical-align: middle;\n",
       "    }\n",
       "\n",
       "    .dataframe tbody tr th {\n",
       "        vertical-align: top;\n",
       "    }\n",
       "\n",
       "    .dataframe thead th {\n",
       "        text-align: right;\n",
       "    }\n",
       "</style>\n",
       "<table border=\"1\" class=\"dataframe\">\n",
       "  <thead>\n",
       "    <tr style=\"text-align: right;\">\n",
       "      <th></th>\n",
       "      <th>0</th>\n",
       "      <th>1</th>\n",
       "      <th>2</th>\n",
       "      <th>3</th>\n",
       "      <th>4</th>\n",
       "    </tr>\n",
       "  </thead>\n",
       "  <tbody>\n",
       "    <tr>\n",
       "      <th>0</th>\n",
       "      <td>(0.21+0j)</td>\n",
       "      <td>(0.09-0.46j)</td>\n",
       "      <td>(-0.54+0.42j)</td>\n",
       "      <td>(0.41+0.26j)</td>\n",
       "      <td>(-0.14-0.05j)</td>\n",
       "    </tr>\n",
       "    <tr>\n",
       "      <th>1</th>\n",
       "      <td>(0.33+0j)</td>\n",
       "      <td>(-0.28-0.12j)</td>\n",
       "      <td>(-0.25-0.32j)</td>\n",
       "      <td>(-0.05-0.1j)</td>\n",
       "      <td>(0.11+0.78j)</td>\n",
       "    </tr>\n",
       "    <tr>\n",
       "      <th>2</th>\n",
       "      <td>(-0.74+0j)</td>\n",
       "      <td>(-0.02-0.14j)</td>\n",
       "      <td>(-0.08+0.28j)</td>\n",
       "      <td>(-0.33+0.27j)</td>\n",
       "      <td>(-0.08+0.39j)</td>\n",
       "    </tr>\n",
       "    <tr>\n",
       "      <th>3</th>\n",
       "      <td>(0.41+0j)</td>\n",
       "      <td>(-0.44+0.22j)</td>\n",
       "      <td>(0.04+0.22j)</td>\n",
       "      <td>(-0.46+0.48j)</td>\n",
       "      <td>(-0.3-0.11j)</td>\n",
       "    </tr>\n",
       "    <tr>\n",
       "      <th>4</th>\n",
       "      <td>(-0.37+0j)</td>\n",
       "      <td>(-0.63+0.16j)</td>\n",
       "      <td>(-0.32-0.36j)</td>\n",
       "      <td>(0.35+0.04j)</td>\n",
       "      <td>(-0.16-0.25j)</td>\n",
       "    </tr>\n",
       "  </tbody>\n",
       "</table>\n",
       "</div>"
      ],
      "text/plain": [
       "            0              1              2              3              4\n",
       "0   (0.21+0j)   (0.09-0.46j)  (-0.54+0.42j)   (0.41+0.26j)  (-0.14-0.05j)\n",
       "1   (0.33+0j)  (-0.28-0.12j)  (-0.25-0.32j)   (-0.05-0.1j)   (0.11+0.78j)\n",
       "2  (-0.74+0j)  (-0.02-0.14j)  (-0.08+0.28j)  (-0.33+0.27j)  (-0.08+0.39j)\n",
       "3   (0.41+0j)  (-0.44+0.22j)   (0.04+0.22j)  (-0.46+0.48j)   (-0.3-0.11j)\n",
       "4  (-0.37+0j)  (-0.63+0.16j)  (-0.32-0.36j)   (0.35+0.04j)  (-0.16-0.25j)"
      ]
     },
     "execution_count": 10,
     "metadata": {},
     "output_type": "execute_result"
    }
   ],
   "source": [
    "df(vh)"
   ]
  },
  {
   "cell_type": "code",
   "execution_count": 11,
   "metadata": {
    "scrolled": true
   },
   "outputs": [
    {
     "data": {
      "text/plain": [
       "(10, 5)"
      ]
     },
     "execution_count": 11,
     "metadata": {},
     "output_type": "execute_result"
    }
   ],
   "source": [
    "S = np.zeros((m, n), dtype=complex)\n",
    "min_mn = min(m, n)\n",
    "S[:min_mn, :min_mn] = np.diag(s)\n",
    "S.shape"
   ]
  },
  {
   "cell_type": "code",
   "execution_count": 12,
   "metadata": {
    "scrolled": false
   },
   "outputs": [
    {
     "data": {
      "text/html": [
       "<div>\n",
       "<style scoped>\n",
       "    .dataframe tbody tr th:only-of-type {\n",
       "        vertical-align: middle;\n",
       "    }\n",
       "\n",
       "    .dataframe tbody tr th {\n",
       "        vertical-align: top;\n",
       "    }\n",
       "\n",
       "    .dataframe thead th {\n",
       "        text-align: right;\n",
       "    }\n",
       "</style>\n",
       "<table border=\"1\" class=\"dataframe\">\n",
       "  <thead>\n",
       "    <tr style=\"text-align: right;\">\n",
       "      <th></th>\n",
       "      <th>0</th>\n",
       "      <th>1</th>\n",
       "      <th>2</th>\n",
       "      <th>3</th>\n",
       "      <th>4</th>\n",
       "    </tr>\n",
       "  </thead>\n",
       "  <tbody>\n",
       "    <tr>\n",
       "      <th>0</th>\n",
       "      <td>(7.37+0j)</td>\n",
       "      <td>0j</td>\n",
       "      <td>0j</td>\n",
       "      <td>0j</td>\n",
       "      <td>0j</td>\n",
       "    </tr>\n",
       "    <tr>\n",
       "      <th>1</th>\n",
       "      <td>0j</td>\n",
       "      <td>(6.06+0j)</td>\n",
       "      <td>0j</td>\n",
       "      <td>0j</td>\n",
       "      <td>0j</td>\n",
       "    </tr>\n",
       "    <tr>\n",
       "      <th>2</th>\n",
       "      <td>0j</td>\n",
       "      <td>0j</td>\n",
       "      <td>(4.7+0j)</td>\n",
       "      <td>0j</td>\n",
       "      <td>0j</td>\n",
       "    </tr>\n",
       "    <tr>\n",
       "      <th>3</th>\n",
       "      <td>0j</td>\n",
       "      <td>0j</td>\n",
       "      <td>0j</td>\n",
       "      <td>(2.76+0j)</td>\n",
       "      <td>0j</td>\n",
       "    </tr>\n",
       "    <tr>\n",
       "      <th>4</th>\n",
       "      <td>0j</td>\n",
       "      <td>0j</td>\n",
       "      <td>0j</td>\n",
       "      <td>0j</td>\n",
       "      <td>(2.07+0j)</td>\n",
       "    </tr>\n",
       "    <tr>\n",
       "      <th>5</th>\n",
       "      <td>0j</td>\n",
       "      <td>0j</td>\n",
       "      <td>0j</td>\n",
       "      <td>0j</td>\n",
       "      <td>0j</td>\n",
       "    </tr>\n",
       "    <tr>\n",
       "      <th>6</th>\n",
       "      <td>0j</td>\n",
       "      <td>0j</td>\n",
       "      <td>0j</td>\n",
       "      <td>0j</td>\n",
       "      <td>0j</td>\n",
       "    </tr>\n",
       "    <tr>\n",
       "      <th>7</th>\n",
       "      <td>0j</td>\n",
       "      <td>0j</td>\n",
       "      <td>0j</td>\n",
       "      <td>0j</td>\n",
       "      <td>0j</td>\n",
       "    </tr>\n",
       "    <tr>\n",
       "      <th>8</th>\n",
       "      <td>0j</td>\n",
       "      <td>0j</td>\n",
       "      <td>0j</td>\n",
       "      <td>0j</td>\n",
       "      <td>0j</td>\n",
       "    </tr>\n",
       "    <tr>\n",
       "      <th>9</th>\n",
       "      <td>0j</td>\n",
       "      <td>0j</td>\n",
       "      <td>0j</td>\n",
       "      <td>0j</td>\n",
       "      <td>0j</td>\n",
       "    </tr>\n",
       "  </tbody>\n",
       "</table>\n",
       "</div>"
      ],
      "text/plain": [
       "           0          1         2          3          4\n",
       "0  (7.37+0j)         0j        0j         0j         0j\n",
       "1         0j  (6.06+0j)        0j         0j         0j\n",
       "2         0j         0j  (4.7+0j)         0j         0j\n",
       "3         0j         0j        0j  (2.76+0j)         0j\n",
       "4         0j         0j        0j         0j  (2.07+0j)\n",
       "5         0j         0j        0j         0j         0j\n",
       "6         0j         0j        0j         0j         0j\n",
       "7         0j         0j        0j         0j         0j\n",
       "8         0j         0j        0j         0j         0j\n",
       "9         0j         0j        0j         0j         0j"
      ]
     },
     "execution_count": 12,
     "metadata": {},
     "output_type": "execute_result"
    }
   ],
   "source": [
    "df(S)"
   ]
  },
  {
   "cell_type": "code",
   "execution_count": 13,
   "metadata": {
    "scrolled": true
   },
   "outputs": [
    {
     "data": {
      "text/plain": [
       "True"
      ]
     },
     "execution_count": 13,
     "metadata": {},
     "output_type": "execute_result"
    }
   ],
   "source": [
    "np.allclose(a, u @ S @ vh )"
   ]
  },
  {
   "cell_type": "code",
   "execution_count": 14,
   "metadata": {},
   "outputs": [
    {
     "data": {
      "text/html": [
       "<div>\n",
       "<style scoped>\n",
       "    .dataframe tbody tr th:only-of-type {\n",
       "        vertical-align: middle;\n",
       "    }\n",
       "\n",
       "    .dataframe tbody tr th {\n",
       "        vertical-align: top;\n",
       "    }\n",
       "\n",
       "    .dataframe thead th {\n",
       "        text-align: right;\n",
       "    }\n",
       "</style>\n",
       "<table border=\"1\" class=\"dataframe\">\n",
       "  <thead>\n",
       "    <tr style=\"text-align: right;\">\n",
       "      <th></th>\n",
       "      <th>0</th>\n",
       "      <th>1</th>\n",
       "      <th>2</th>\n",
       "      <th>3</th>\n",
       "      <th>4</th>\n",
       "    </tr>\n",
       "  </thead>\n",
       "  <tbody>\n",
       "    <tr>\n",
       "      <th>0</th>\n",
       "      <td>(-0.17-0.08j)</td>\n",
       "      <td>(-0.02+0.03j)</td>\n",
       "      <td>(0.44+0.13j)</td>\n",
       "      <td>(0.18-0.13j)</td>\n",
       "      <td>(-0.14+0.21j)</td>\n",
       "    </tr>\n",
       "    <tr>\n",
       "      <th>1</th>\n",
       "      <td>(-0.12+0.07j)</td>\n",
       "      <td>(-0.66-0j)</td>\n",
       "      <td>(0.14-0.16j)</td>\n",
       "      <td>(0.09+0.05j)</td>\n",
       "      <td>(0.03+0.02j)</td>\n",
       "    </tr>\n",
       "    <tr>\n",
       "      <th>2</th>\n",
       "      <td>(-0.22+0.19j)</td>\n",
       "      <td>(-0.31+0.11j)</td>\n",
       "      <td>(-0.11-0.19j)</td>\n",
       "      <td>(0.06-0.01j)</td>\n",
       "      <td>(0.2-0.52j)</td>\n",
       "    </tr>\n",
       "    <tr>\n",
       "      <th>3</th>\n",
       "      <td>(-0.07+0.44j)</td>\n",
       "      <td>(0.04-0.06j)</td>\n",
       "      <td>(-0.1+0.08j)</td>\n",
       "      <td>(-0.04-0.09j)</td>\n",
       "      <td>(-0.07+0.23j)</td>\n",
       "    </tr>\n",
       "    <tr>\n",
       "      <th>4</th>\n",
       "      <td>(-0.15-0.02j)</td>\n",
       "      <td>(0.25+0.06j)</td>\n",
       "      <td>(-0.45-0.17j)</td>\n",
       "      <td>(-0.12-0.31j)</td>\n",
       "      <td>(0.11+0.13j)</td>\n",
       "    </tr>\n",
       "    <tr>\n",
       "      <th>5</th>\n",
       "      <td>(0.27+0.6j)</td>\n",
       "      <td>(0.1+0.12j)</td>\n",
       "      <td>(0.24-0.01j)</td>\n",
       "      <td>(0.09+0.13j)</td>\n",
       "      <td>(0.05+0.2j)</td>\n",
       "    </tr>\n",
       "    <tr>\n",
       "      <th>6</th>\n",
       "      <td>0.09j</td>\n",
       "      <td>(0.11-0.16j)</td>\n",
       "      <td>(0.03-0.44j)</td>\n",
       "      <td>(-0.57+0.28j)</td>\n",
       "      <td>(-0.03-0.13j)</td>\n",
       "    </tr>\n",
       "    <tr>\n",
       "      <th>7</th>\n",
       "      <td>(-0.14-0.12j)</td>\n",
       "      <td>(-0.1+0.36j)</td>\n",
       "      <td>(-0.1+0.37j)</td>\n",
       "      <td>(-0.29+0.08j)</td>\n",
       "      <td>(0.46+0.18j)</td>\n",
       "    </tr>\n",
       "    <tr>\n",
       "      <th>8</th>\n",
       "      <td>(0.31+0.07j)</td>\n",
       "      <td>(-0.29+0.13j)</td>\n",
       "      <td>(-0.02+0.08j)</td>\n",
       "      <td>(-0.1+0.09j)</td>\n",
       "      <td>(0.2+0.1j)</td>\n",
       "    </tr>\n",
       "    <tr>\n",
       "      <th>9</th>\n",
       "      <td>(-0.17+0.2j)</td>\n",
       "      <td>(0.24-0.16j)</td>\n",
       "      <td>(-0.2-0.06j)</td>\n",
       "      <td>(0.52+0.04j)</td>\n",
       "      <td>(0.42+0.08j)</td>\n",
       "    </tr>\n",
       "  </tbody>\n",
       "</table>\n",
       "</div>"
      ],
      "text/plain": [
       "               0              1              2              3              4\n",
       "0  (-0.17-0.08j)  (-0.02+0.03j)   (0.44+0.13j)   (0.18-0.13j)  (-0.14+0.21j)\n",
       "1  (-0.12+0.07j)     (-0.66-0j)   (0.14-0.16j)   (0.09+0.05j)   (0.03+0.02j)\n",
       "2  (-0.22+0.19j)  (-0.31+0.11j)  (-0.11-0.19j)   (0.06-0.01j)    (0.2-0.52j)\n",
       "3  (-0.07+0.44j)   (0.04-0.06j)   (-0.1+0.08j)  (-0.04-0.09j)  (-0.07+0.23j)\n",
       "4  (-0.15-0.02j)   (0.25+0.06j)  (-0.45-0.17j)  (-0.12-0.31j)   (0.11+0.13j)\n",
       "5    (0.27+0.6j)    (0.1+0.12j)   (0.24-0.01j)   (0.09+0.13j)    (0.05+0.2j)\n",
       "6          0.09j   (0.11-0.16j)   (0.03-0.44j)  (-0.57+0.28j)  (-0.03-0.13j)\n",
       "7  (-0.14-0.12j)   (-0.1+0.36j)   (-0.1+0.37j)  (-0.29+0.08j)   (0.46+0.18j)\n",
       "8   (0.31+0.07j)  (-0.29+0.13j)  (-0.02+0.08j)   (-0.1+0.09j)     (0.2+0.1j)\n",
       "9   (-0.17+0.2j)   (0.24-0.16j)   (-0.2-0.06j)   (0.52+0.04j)   (0.42+0.08j)"
      ]
     },
     "execution_count": 14,
     "metadata": {},
     "output_type": "execute_result"
    }
   ],
   "source": [
    "df(u[:, :n])"
   ]
  },
  {
   "cell_type": "markdown",
   "metadata": {},
   "source": [
    "#### without making s into matrix"
   ]
  },
  {
   "cell_type": "code",
   "execution_count": 15,
   "metadata": {
    "scrolled": true
   },
   "outputs": [
    {
     "data": {
      "text/plain": [
       "True"
      ]
     },
     "execution_count": 15,
     "metadata": {},
     "output_type": "execute_result"
    }
   ],
   "source": [
    "np.allclose(a, u[:, :n] * s @ vh)"
   ]
  },
  {
   "cell_type": "markdown",
   "metadata": {},
   "source": [
    "#### `full_matrices=False`"
   ]
  },
  {
   "cell_type": "code",
   "execution_count": 16,
   "metadata": {},
   "outputs": [
    {
     "data": {
      "text/plain": [
       "((10, 5), (10, 5), (5,), (5, 5))"
      ]
     },
     "execution_count": 16,
     "metadata": {},
     "output_type": "execute_result"
    }
   ],
   "source": [
    "u, s, vh = svd(a, full_matrices=False)\n",
    "\n",
    "a.shape, u.shape, s.shape, vh.shape"
   ]
  },
  {
   "cell_type": "code",
   "execution_count": 17,
   "metadata": {},
   "outputs": [
    {
     "data": {
      "text/html": [
       "<div>\n",
       "<style scoped>\n",
       "    .dataframe tbody tr th:only-of-type {\n",
       "        vertical-align: middle;\n",
       "    }\n",
       "\n",
       "    .dataframe tbody tr th {\n",
       "        vertical-align: top;\n",
       "    }\n",
       "\n",
       "    .dataframe thead th {\n",
       "        text-align: right;\n",
       "    }\n",
       "</style>\n",
       "<table border=\"1\" class=\"dataframe\">\n",
       "  <thead>\n",
       "    <tr style=\"text-align: right;\">\n",
       "      <th></th>\n",
       "      <th>0</th>\n",
       "      <th>1</th>\n",
       "      <th>2</th>\n",
       "      <th>3</th>\n",
       "      <th>4</th>\n",
       "    </tr>\n",
       "  </thead>\n",
       "  <tbody>\n",
       "    <tr>\n",
       "      <th>0</th>\n",
       "      <td>7.37</td>\n",
       "      <td>0.00</td>\n",
       "      <td>0.0</td>\n",
       "      <td>0.00</td>\n",
       "      <td>0.00</td>\n",
       "    </tr>\n",
       "    <tr>\n",
       "      <th>1</th>\n",
       "      <td>0.00</td>\n",
       "      <td>6.06</td>\n",
       "      <td>0.0</td>\n",
       "      <td>0.00</td>\n",
       "      <td>0.00</td>\n",
       "    </tr>\n",
       "    <tr>\n",
       "      <th>2</th>\n",
       "      <td>0.00</td>\n",
       "      <td>0.00</td>\n",
       "      <td>4.7</td>\n",
       "      <td>0.00</td>\n",
       "      <td>0.00</td>\n",
       "    </tr>\n",
       "    <tr>\n",
       "      <th>3</th>\n",
       "      <td>0.00</td>\n",
       "      <td>0.00</td>\n",
       "      <td>0.0</td>\n",
       "      <td>2.76</td>\n",
       "      <td>0.00</td>\n",
       "    </tr>\n",
       "    <tr>\n",
       "      <th>4</th>\n",
       "      <td>0.00</td>\n",
       "      <td>0.00</td>\n",
       "      <td>0.0</td>\n",
       "      <td>0.00</td>\n",
       "      <td>2.07</td>\n",
       "    </tr>\n",
       "  </tbody>\n",
       "</table>\n",
       "</div>"
      ],
      "text/plain": [
       "      0     1    2     3     4\n",
       "0  7.37  0.00  0.0  0.00  0.00\n",
       "1  0.00  6.06  0.0  0.00  0.00\n",
       "2  0.00  0.00  4.7  0.00  0.00\n",
       "3  0.00  0.00  0.0  2.76  0.00\n",
       "4  0.00  0.00  0.0  0.00  2.07"
      ]
     },
     "execution_count": 17,
     "metadata": {},
     "output_type": "execute_result"
    }
   ],
   "source": [
    "S = np.diag(s)\n",
    "df(S)"
   ]
  },
  {
   "cell_type": "code",
   "execution_count": 18,
   "metadata": {},
   "outputs": [
    {
     "data": {
      "text/plain": [
       "True"
      ]
     },
     "execution_count": 18,
     "metadata": {},
     "output_type": "execute_result"
    }
   ],
   "source": [
    "np.allclose(a, u @ S @ vh)"
   ]
  },
  {
   "cell_type": "markdown",
   "metadata": {},
   "source": [
    "#### without making s into matrix"
   ]
  },
  {
   "cell_type": "code",
   "execution_count": 19,
   "metadata": {
    "scrolled": true
   },
   "outputs": [
    {
     "data": {
      "text/plain": [
       "True"
      ]
     },
     "execution_count": 19,
     "metadata": {},
     "output_type": "execute_result"
    }
   ],
   "source": [
    "np.allclose(a, u * s @ vh)"
   ]
  },
  {
   "cell_type": "markdown",
   "metadata": {},
   "source": [
    "## `m<n`"
   ]
  },
  {
   "cell_type": "code",
   "execution_count": 20,
   "metadata": {},
   "outputs": [],
   "source": [
    "m, n = 5, 10"
   ]
  },
  {
   "cell_type": "code",
   "execution_count": 21,
   "metadata": {},
   "outputs": [
    {
     "data": {
      "text/html": [
       "<div>\n",
       "<style scoped>\n",
       "    .dataframe tbody tr th:only-of-type {\n",
       "        vertical-align: middle;\n",
       "    }\n",
       "\n",
       "    .dataframe tbody tr th {\n",
       "        vertical-align: top;\n",
       "    }\n",
       "\n",
       "    .dataframe thead th {\n",
       "        text-align: right;\n",
       "    }\n",
       "</style>\n",
       "<table border=\"1\" class=\"dataframe\">\n",
       "  <thead>\n",
       "    <tr style=\"text-align: right;\">\n",
       "      <th></th>\n",
       "      <th>0</th>\n",
       "      <th>1</th>\n",
       "      <th>2</th>\n",
       "      <th>3</th>\n",
       "      <th>4</th>\n",
       "      <th>5</th>\n",
       "      <th>6</th>\n",
       "      <th>7</th>\n",
       "      <th>8</th>\n",
       "      <th>9</th>\n",
       "    </tr>\n",
       "  </thead>\n",
       "  <tbody>\n",
       "    <tr>\n",
       "      <th>0</th>\n",
       "      <td>(-0.23-1.7j)</td>\n",
       "      <td>(-0-0.02j)</td>\n",
       "      <td>(-0.62-1.29j)</td>\n",
       "      <td>(0.88+0.24j)</td>\n",
       "      <td>(-0.2-0.18j)</td>\n",
       "      <td>(-0.59+0j)</td>\n",
       "      <td>(0.32-0.65j)</td>\n",
       "      <td>(0.65-1.29j)</td>\n",
       "      <td>(-0.02+1.25j)</td>\n",
       "      <td>(-1.37-0.46j)</td>\n",
       "    </tr>\n",
       "    <tr>\n",
       "      <th>1</th>\n",
       "      <td>(-0.03-0.14j)</td>\n",
       "      <td>(0.56-0.04j)</td>\n",
       "      <td>(0.04-0.29j)</td>\n",
       "      <td>(-1.1+1.42j)</td>\n",
       "      <td>(2.03-0.21j)</td>\n",
       "      <td>(0.04+0.4j)</td>\n",
       "      <td>(-0.05+0.17j)</td>\n",
       "      <td>(-0.58+1.33j)</td>\n",
       "      <td>(1.13+0.92j)</td>\n",
       "      <td>(-0.99+0.34j)</td>\n",
       "    </tr>\n",
       "    <tr>\n",
       "      <th>2</th>\n",
       "      <td>(-0.63+0.94j)</td>\n",
       "      <td>(1.08-0.12j)</td>\n",
       "      <td>(-0.84+1.1j)</td>\n",
       "      <td>(-1.86-0.11j)</td>\n",
       "      <td>(2.18-0.19j)</td>\n",
       "      <td>(0.57+0.04j)</td>\n",
       "      <td>(-0.07-0.24j)</td>\n",
       "      <td>(0.22-1.38j)</td>\n",
       "      <td>(1.02-0.31j)</td>\n",
       "      <td>(0.54+0.47j)</td>\n",
       "    </tr>\n",
       "    <tr>\n",
       "      <th>3</th>\n",
       "      <td>(0.59+1.78j)</td>\n",
       "      <td>(1.09+1.06j)</td>\n",
       "      <td>(0.53+1.81j)</td>\n",
       "      <td>(-0.9-0.58j)</td>\n",
       "      <td>(-1.37+1.25j)</td>\n",
       "      <td>(-0.91-1.23j)</td>\n",
       "      <td>(1.34-0.43j)</td>\n",
       "      <td>(-1.19+0.38j)</td>\n",
       "      <td>(1.91+0.87j)</td>\n",
       "      <td>(1.67+0.2j)</td>\n",
       "    </tr>\n",
       "    <tr>\n",
       "      <th>4</th>\n",
       "      <td>(0.67-0.84j)</td>\n",
       "      <td>(0.78+0.12j)</td>\n",
       "      <td>(-0.02+0.07j)</td>\n",
       "      <td>(-0.26-1.58j)</td>\n",
       "      <td>(-1.55-1.56j)</td>\n",
       "      <td>(0.31+0.41j)</td>\n",
       "      <td>(0.41-0.29j)</td>\n",
       "      <td>(1.53+1.69j)</td>\n",
       "      <td>(-0.35-0.76j)</td>\n",
       "      <td>(-1.17+0.34j)</td>\n",
       "    </tr>\n",
       "  </tbody>\n",
       "</table>\n",
       "</div>"
      ],
      "text/plain": [
       "               0             1              2              3              4  \\\n",
       "0   (-0.23-1.7j)    (-0-0.02j)  (-0.62-1.29j)   (0.88+0.24j)   (-0.2-0.18j)   \n",
       "1  (-0.03-0.14j)  (0.56-0.04j)   (0.04-0.29j)   (-1.1+1.42j)   (2.03-0.21j)   \n",
       "2  (-0.63+0.94j)  (1.08-0.12j)   (-0.84+1.1j)  (-1.86-0.11j)   (2.18-0.19j)   \n",
       "3   (0.59+1.78j)  (1.09+1.06j)   (0.53+1.81j)   (-0.9-0.58j)  (-1.37+1.25j)   \n",
       "4   (0.67-0.84j)  (0.78+0.12j)  (-0.02+0.07j)  (-0.26-1.58j)  (-1.55-1.56j)   \n",
       "\n",
       "               5              6              7              8              9  \n",
       "0     (-0.59+0j)   (0.32-0.65j)   (0.65-1.29j)  (-0.02+1.25j)  (-1.37-0.46j)  \n",
       "1    (0.04+0.4j)  (-0.05+0.17j)  (-0.58+1.33j)   (1.13+0.92j)  (-0.99+0.34j)  \n",
       "2   (0.57+0.04j)  (-0.07-0.24j)   (0.22-1.38j)   (1.02-0.31j)   (0.54+0.47j)  \n",
       "3  (-0.91-1.23j)   (1.34-0.43j)  (-1.19+0.38j)   (1.91+0.87j)    (1.67+0.2j)  \n",
       "4   (0.31+0.41j)   (0.41-0.29j)   (1.53+1.69j)  (-0.35-0.76j)  (-1.17+0.34j)  "
      ]
     },
     "execution_count": 21,
     "metadata": {},
     "output_type": "execute_result"
    }
   ],
   "source": [
    "a = np.random.randn(m, n) + 1j*np.random.randn(m, n)\n",
    "df(a)"
   ]
  },
  {
   "cell_type": "markdown",
   "metadata": {},
   "source": [
    "#### `full_matrices=True`"
   ]
  },
  {
   "cell_type": "code",
   "execution_count": 22,
   "metadata": {},
   "outputs": [],
   "source": [
    "u, s, vh = svd(a, full_matrices=True)"
   ]
  },
  {
   "cell_type": "code",
   "execution_count": 23,
   "metadata": {
    "scrolled": false
   },
   "outputs": [
    {
     "data": {
      "text/plain": [
       "((5, 10), (5, 5), (5,), (10, 10))"
      ]
     },
     "execution_count": 23,
     "metadata": {},
     "output_type": "execute_result"
    }
   ],
   "source": [
    "a.shape, u.shape, s.shape, vh.shape"
   ]
  },
  {
   "cell_type": "code",
   "execution_count": 24,
   "metadata": {
    "scrolled": true
   },
   "outputs": [
    {
     "data": {
      "text/html": [
       "<div>\n",
       "<style scoped>\n",
       "    .dataframe tbody tr th:only-of-type {\n",
       "        vertical-align: middle;\n",
       "    }\n",
       "\n",
       "    .dataframe tbody tr th {\n",
       "        vertical-align: top;\n",
       "    }\n",
       "\n",
       "    .dataframe thead th {\n",
       "        text-align: right;\n",
       "    }\n",
       "</style>\n",
       "<table border=\"1\" class=\"dataframe\">\n",
       "  <thead>\n",
       "    <tr style=\"text-align: right;\">\n",
       "      <th></th>\n",
       "      <th>0</th>\n",
       "      <th>1</th>\n",
       "      <th>2</th>\n",
       "      <th>3</th>\n",
       "      <th>4</th>\n",
       "    </tr>\n",
       "  </thead>\n",
       "  <tbody>\n",
       "    <tr>\n",
       "      <th>0</th>\n",
       "      <td>(-0.37+0j)</td>\n",
       "      <td>(0.29+0j)</td>\n",
       "      <td>(-0.25+0j)</td>\n",
       "      <td>(0.63+0j)</td>\n",
       "      <td>(0.56+0j)</td>\n",
       "    </tr>\n",
       "    <tr>\n",
       "      <th>1</th>\n",
       "      <td>(0.19-0.17j)</td>\n",
       "      <td>(0.25-0.4j)</td>\n",
       "      <td>(-0.08+0.37j)</td>\n",
       "      <td>(0.31+0.5j)</td>\n",
       "      <td>(-0.37-0.3j)</td>\n",
       "    </tr>\n",
       "    <tr>\n",
       "      <th>2</th>\n",
       "      <td>(0.32+0.2j)</td>\n",
       "      <td>(0.24-0.43j)</td>\n",
       "      <td>(0.53+0.09j)</td>\n",
       "      <td>(-0.13+0.09j)</td>\n",
       "      <td>(0.47+0.29j)</td>\n",
       "    </tr>\n",
       "    <tr>\n",
       "      <th>3</th>\n",
       "      <td>(0.64+0.36j)</td>\n",
       "      <td>(-0.28+0.41j)</td>\n",
       "      <td>(-0.08+0.15j)</td>\n",
       "      <td>(0.41+0.05j)</td>\n",
       "      <td>(0.07+0.04j)</td>\n",
       "    </tr>\n",
       "    <tr>\n",
       "      <th>4</th>\n",
       "      <td>(-0.29-0.16j)</td>\n",
       "      <td>(-0.31+0.33j)</td>\n",
       "      <td>(0.38+0.58j)</td>\n",
       "      <td>(-0.12+0.23j)</td>\n",
       "      <td>(0.27-0.27j)</td>\n",
       "    </tr>\n",
       "  </tbody>\n",
       "</table>\n",
       "</div>"
      ],
      "text/plain": [
       "               0              1              2              3             4\n",
       "0     (-0.37+0j)      (0.29+0j)     (-0.25+0j)      (0.63+0j)     (0.56+0j)\n",
       "1   (0.19-0.17j)    (0.25-0.4j)  (-0.08+0.37j)    (0.31+0.5j)  (-0.37-0.3j)\n",
       "2    (0.32+0.2j)   (0.24-0.43j)   (0.53+0.09j)  (-0.13+0.09j)  (0.47+0.29j)\n",
       "3   (0.64+0.36j)  (-0.28+0.41j)  (-0.08+0.15j)   (0.41+0.05j)  (0.07+0.04j)\n",
       "4  (-0.29-0.16j)  (-0.31+0.33j)   (0.38+0.58j)  (-0.12+0.23j)  (0.27-0.27j)"
      ]
     },
     "execution_count": 24,
     "metadata": {},
     "output_type": "execute_result"
    }
   ],
   "source": [
    "df(u)"
   ]
  },
  {
   "cell_type": "code",
   "execution_count": 25,
   "metadata": {},
   "outputs": [
    {
     "data": {
      "text/html": [
       "<div>\n",
       "<style scoped>\n",
       "    .dataframe tbody tr th:only-of-type {\n",
       "        vertical-align: middle;\n",
       "    }\n",
       "\n",
       "    .dataframe tbody tr th {\n",
       "        vertical-align: top;\n",
       "    }\n",
       "\n",
       "    .dataframe thead th {\n",
       "        text-align: right;\n",
       "    }\n",
       "</style>\n",
       "<table border=\"1\" class=\"dataframe\">\n",
       "  <thead>\n",
       "    <tr style=\"text-align: right;\">\n",
       "      <th></th>\n",
       "      <th>0</th>\n",
       "      <th>1</th>\n",
       "      <th>2</th>\n",
       "      <th>3</th>\n",
       "      <th>4</th>\n",
       "      <th>5</th>\n",
       "      <th>6</th>\n",
       "      <th>7</th>\n",
       "      <th>8</th>\n",
       "      <th>9</th>\n",
       "    </tr>\n",
       "  </thead>\n",
       "  <tbody>\n",
       "    <tr>\n",
       "      <th>0</th>\n",
       "      <td>(0.17+0.39j)</td>\n",
       "      <td>(0.21+0.04j)</td>\n",
       "      <td>(0.2+0.32j)</td>\n",
       "      <td>(-0.31+0.12j)</td>\n",
       "      <td>(0.24+0.23j)</td>\n",
       "      <td>(-0.14-0.09j)</td>\n",
       "      <td>(0.07-0.07j)</td>\n",
       "      <td>(-0.35+0.1j)</td>\n",
       "      <td>(0.35-0.06j)</td>\n",
       "      <td>(0.33-0.11j)</td>\n",
       "    </tr>\n",
       "    <tr>\n",
       "      <th>1</th>\n",
       "      <td>(-0.1-0.27j)</td>\n",
       "      <td>(0.08-0.08j)</td>\n",
       "      <td>(-0.02-0.26j)</td>\n",
       "      <td>(-0.29+0.05j)</td>\n",
       "      <td>(0.42+0.59j)</td>\n",
       "      <td>(-0.09+0.18j)</td>\n",
       "      <td>(-0.14-0.15j)</td>\n",
       "      <td>(0.15-0.24j)</td>\n",
       "      <td>(-0.01+0.15j)</td>\n",
       "      <td>(-0.16-0.12j)</td>\n",
       "    </tr>\n",
       "    <tr>\n",
       "      <th>2</th>\n",
       "      <td>(-0.07+0.02j)</td>\n",
       "      <td>(0.24-0.26j)</td>\n",
       "      <td>(-0.01+0.21j)</td>\n",
       "      <td>(-0.42+0.02j)</td>\n",
       "      <td>(-0.06-0.16j)</td>\n",
       "      <td>(0.22+0.03j)</td>\n",
       "      <td>(-0.07-0.12j)</td>\n",
       "      <td>(0.53-0.1j)</td>\n",
       "      <td>(0.04-0.39j)</td>\n",
       "      <td>(0.13+0.31j)</td>\n",
       "    </tr>\n",
       "    <tr>\n",
       "      <th>3</th>\n",
       "      <td>(-0-0.18j)</td>\n",
       "      <td>(0.16-0.07j)</td>\n",
       "      <td>-0.1j</td>\n",
       "      <td>(0.16+0.5j)</td>\n",
       "      <td>(-0.21-0.09j)</td>\n",
       "      <td>(-0.22-0.2j)</td>\n",
       "      <td>(0.25-0.22j)</td>\n",
       "      <td>(0.17-0.11j)</td>\n",
       "      <td>(0.48+0.32j)</td>\n",
       "      <td>(-0.04+0.16j)</td>\n",
       "    </tr>\n",
       "    <tr>\n",
       "      <th>4</th>\n",
       "      <td>(0.19-0.1j)</td>\n",
       "      <td>(0.26+0.03j)</td>\n",
       "      <td>(-0.12+0.13j)</td>\n",
       "      <td>(-0.07-0.33j)</td>\n",
       "      <td>(0.05-0.38j)</td>\n",
       "      <td>(-0.15-0.06j)</td>\n",
       "      <td>(0.14-0.27j)</td>\n",
       "      <td>(-0.1-0.52j)</td>\n",
       "      <td>(-0.01-0.03j)</td>\n",
       "      <td>(-0.17-0.4j)</td>\n",
       "    </tr>\n",
       "    <tr>\n",
       "      <th>5</th>\n",
       "      <td>(-0.01-0.23j)</td>\n",
       "      <td>(0.19-0j)</td>\n",
       "      <td>(0.25+0.17j)</td>\n",
       "      <td>(0.26-0.02j)</td>\n",
       "      <td>(0.01+0.15j)</td>\n",
       "      <td>(0.8-0.05j)</td>\n",
       "      <td>(0.05-0.15j)</td>\n",
       "      <td>(-0.12-0.03j)</td>\n",
       "      <td>(0.13+0.07j)</td>\n",
       "      <td>(-0.03-0.13j)</td>\n",
       "    </tr>\n",
       "    <tr>\n",
       "      <th>6</th>\n",
       "      <td>(-0.28+0.03j)</td>\n",
       "      <td>(-0.24-0.29j)</td>\n",
       "      <td>(0.21-0.04j)</td>\n",
       "      <td>(-0.06-0.09j)</td>\n",
       "      <td>(0.1+0.03j)</td>\n",
       "      <td>(-0.02+0.15j)</td>\n",
       "      <td>(0.8-0.02j)</td>\n",
       "      <td>(-0.1-0.02j)</td>\n",
       "      <td>(-0.05-0.15j)</td>\n",
       "      <td>(-0.1+0.05j)</td>\n",
       "    </tr>\n",
       "    <tr>\n",
       "      <th>7</th>\n",
       "      <td>(-0.35+0.19j)</td>\n",
       "      <td>(-0.1+0.21j)</td>\n",
       "      <td>(0.54+0.4j)</td>\n",
       "      <td>(0.13+0.01j)</td>\n",
       "      <td>(0.08-0.08j)</td>\n",
       "      <td>(-0.2+0.1j)</td>\n",
       "      <td>(-0.19-0.05j)</td>\n",
       "      <td>(0.31-0.06j)</td>\n",
       "      <td>(-0+0.15j)</td>\n",
       "      <td>(-0.28-0.11j)</td>\n",
       "    </tr>\n",
       "    <tr>\n",
       "      <th>8</th>\n",
       "      <td>(0.09-0.25j)</td>\n",
       "      <td>(-0.61+0.22j)</td>\n",
       "      <td>(0.08-0.06j)</td>\n",
       "      <td>(-0.34-0.07j)</td>\n",
       "      <td>(-0.1-0.1j)</td>\n",
       "      <td>(0.12+0j)</td>\n",
       "      <td>(-0.07+0.15j)</td>\n",
       "      <td>(0.05-0.1j)</td>\n",
       "      <td>(0.5-0.11j)</td>\n",
       "      <td>(0.04-0.19j)</td>\n",
       "    </tr>\n",
       "    <tr>\n",
       "      <th>9</th>\n",
       "      <td>(-0.45-0.29j)</td>\n",
       "      <td>(0.23+0.09j)</td>\n",
       "      <td>(0.2-0.24j)</td>\n",
       "      <td>(-0.11-0.09j)</td>\n",
       "      <td>(-0.02-0.29j)</td>\n",
       "      <td>(-0.08+0.17j)</td>\n",
       "      <td>(-0.06-0.04j)</td>\n",
       "      <td>(-0.11+0.11j)</td>\n",
       "      <td>(-0.05+0.14j)</td>\n",
       "      <td>(0.58-0.13j)</td>\n",
       "    </tr>\n",
       "  </tbody>\n",
       "</table>\n",
       "</div>"
      ],
      "text/plain": [
       "               0              1              2              3              4  \\\n",
       "0   (0.17+0.39j)   (0.21+0.04j)    (0.2+0.32j)  (-0.31+0.12j)   (0.24+0.23j)   \n",
       "1   (-0.1-0.27j)   (0.08-0.08j)  (-0.02-0.26j)  (-0.29+0.05j)   (0.42+0.59j)   \n",
       "2  (-0.07+0.02j)   (0.24-0.26j)  (-0.01+0.21j)  (-0.42+0.02j)  (-0.06-0.16j)   \n",
       "3     (-0-0.18j)   (0.16-0.07j)          -0.1j    (0.16+0.5j)  (-0.21-0.09j)   \n",
       "4    (0.19-0.1j)   (0.26+0.03j)  (-0.12+0.13j)  (-0.07-0.33j)   (0.05-0.38j)   \n",
       "5  (-0.01-0.23j)      (0.19-0j)   (0.25+0.17j)   (0.26-0.02j)   (0.01+0.15j)   \n",
       "6  (-0.28+0.03j)  (-0.24-0.29j)   (0.21-0.04j)  (-0.06-0.09j)    (0.1+0.03j)   \n",
       "7  (-0.35+0.19j)   (-0.1+0.21j)    (0.54+0.4j)   (0.13+0.01j)   (0.08-0.08j)   \n",
       "8   (0.09-0.25j)  (-0.61+0.22j)   (0.08-0.06j)  (-0.34-0.07j)    (-0.1-0.1j)   \n",
       "9  (-0.45-0.29j)   (0.23+0.09j)    (0.2-0.24j)  (-0.11-0.09j)  (-0.02-0.29j)   \n",
       "\n",
       "               5              6              7              8              9  \n",
       "0  (-0.14-0.09j)   (0.07-0.07j)   (-0.35+0.1j)   (0.35-0.06j)   (0.33-0.11j)  \n",
       "1  (-0.09+0.18j)  (-0.14-0.15j)   (0.15-0.24j)  (-0.01+0.15j)  (-0.16-0.12j)  \n",
       "2   (0.22+0.03j)  (-0.07-0.12j)    (0.53-0.1j)   (0.04-0.39j)   (0.13+0.31j)  \n",
       "3   (-0.22-0.2j)   (0.25-0.22j)   (0.17-0.11j)   (0.48+0.32j)  (-0.04+0.16j)  \n",
       "4  (-0.15-0.06j)   (0.14-0.27j)   (-0.1-0.52j)  (-0.01-0.03j)   (-0.17-0.4j)  \n",
       "5    (0.8-0.05j)   (0.05-0.15j)  (-0.12-0.03j)   (0.13+0.07j)  (-0.03-0.13j)  \n",
       "6  (-0.02+0.15j)    (0.8-0.02j)   (-0.1-0.02j)  (-0.05-0.15j)   (-0.1+0.05j)  \n",
       "7    (-0.2+0.1j)  (-0.19-0.05j)   (0.31-0.06j)     (-0+0.15j)  (-0.28-0.11j)  \n",
       "8      (0.12+0j)  (-0.07+0.15j)    (0.05-0.1j)    (0.5-0.11j)   (0.04-0.19j)  \n",
       "9  (-0.08+0.17j)  (-0.06-0.04j)  (-0.11+0.11j)  (-0.05+0.14j)   (0.58-0.13j)  "
      ]
     },
     "execution_count": 25,
     "metadata": {},
     "output_type": "execute_result"
    }
   ],
   "source": [
    "df(vh)"
   ]
  },
  {
   "cell_type": "code",
   "execution_count": 26,
   "metadata": {
    "scrolled": true
   },
   "outputs": [
    {
     "data": {
      "text/plain": [
       "(5, 10)"
      ]
     },
     "execution_count": 26,
     "metadata": {},
     "output_type": "execute_result"
    }
   ],
   "source": [
    "S = np.zeros((m, n), dtype=complex)\n",
    "min_mn = min(m, n)\n",
    "S[:min_mn, :min_mn] = np.diag(s)\n",
    "S.shape"
   ]
  },
  {
   "cell_type": "code",
   "execution_count": 27,
   "metadata": {
    "scrolled": true
   },
   "outputs": [
    {
     "data": {
      "text/html": [
       "<div>\n",
       "<style scoped>\n",
       "    .dataframe tbody tr th:only-of-type {\n",
       "        vertical-align: middle;\n",
       "    }\n",
       "\n",
       "    .dataframe tbody tr th {\n",
       "        vertical-align: top;\n",
       "    }\n",
       "\n",
       "    .dataframe thead th {\n",
       "        text-align: right;\n",
       "    }\n",
       "</style>\n",
       "<table border=\"1\" class=\"dataframe\">\n",
       "  <thead>\n",
       "    <tr style=\"text-align: right;\">\n",
       "      <th></th>\n",
       "      <th>0</th>\n",
       "      <th>1</th>\n",
       "      <th>2</th>\n",
       "      <th>3</th>\n",
       "      <th>4</th>\n",
       "      <th>5</th>\n",
       "      <th>6</th>\n",
       "      <th>7</th>\n",
       "      <th>8</th>\n",
       "      <th>9</th>\n",
       "    </tr>\n",
       "  </thead>\n",
       "  <tbody>\n",
       "    <tr>\n",
       "      <th>0</th>\n",
       "      <td>(6+0j)</td>\n",
       "      <td>0j</td>\n",
       "      <td>0j</td>\n",
       "      <td>0j</td>\n",
       "      <td>0j</td>\n",
       "      <td>0j</td>\n",
       "      <td>0j</td>\n",
       "      <td>0j</td>\n",
       "      <td>0j</td>\n",
       "      <td>0j</td>\n",
       "    </tr>\n",
       "    <tr>\n",
       "      <th>1</th>\n",
       "      <td>0j</td>\n",
       "      <td>(4.8+0j)</td>\n",
       "      <td>0j</td>\n",
       "      <td>0j</td>\n",
       "      <td>0j</td>\n",
       "      <td>0j</td>\n",
       "      <td>0j</td>\n",
       "      <td>0j</td>\n",
       "      <td>0j</td>\n",
       "      <td>0j</td>\n",
       "    </tr>\n",
       "    <tr>\n",
       "      <th>2</th>\n",
       "      <td>0j</td>\n",
       "      <td>0j</td>\n",
       "      <td>(3.89+0j)</td>\n",
       "      <td>0j</td>\n",
       "      <td>0j</td>\n",
       "      <td>0j</td>\n",
       "      <td>0j</td>\n",
       "      <td>0j</td>\n",
       "      <td>0j</td>\n",
       "      <td>0j</td>\n",
       "    </tr>\n",
       "    <tr>\n",
       "      <th>3</th>\n",
       "      <td>0j</td>\n",
       "      <td>0j</td>\n",
       "      <td>0j</td>\n",
       "      <td>(2.74+0j)</td>\n",
       "      <td>0j</td>\n",
       "      <td>0j</td>\n",
       "      <td>0j</td>\n",
       "      <td>0j</td>\n",
       "      <td>0j</td>\n",
       "      <td>0j</td>\n",
       "    </tr>\n",
       "    <tr>\n",
       "      <th>4</th>\n",
       "      <td>0j</td>\n",
       "      <td>0j</td>\n",
       "      <td>0j</td>\n",
       "      <td>0j</td>\n",
       "      <td>(2.21+0j)</td>\n",
       "      <td>0j</td>\n",
       "      <td>0j</td>\n",
       "      <td>0j</td>\n",
       "      <td>0j</td>\n",
       "      <td>0j</td>\n",
       "    </tr>\n",
       "  </tbody>\n",
       "</table>\n",
       "</div>"
      ],
      "text/plain": [
       "        0         1          2          3          4   5   6   7   8   9\n",
       "0  (6+0j)        0j         0j         0j         0j  0j  0j  0j  0j  0j\n",
       "1      0j  (4.8+0j)         0j         0j         0j  0j  0j  0j  0j  0j\n",
       "2      0j        0j  (3.89+0j)         0j         0j  0j  0j  0j  0j  0j\n",
       "3      0j        0j         0j  (2.74+0j)         0j  0j  0j  0j  0j  0j\n",
       "4      0j        0j         0j         0j  (2.21+0j)  0j  0j  0j  0j  0j"
      ]
     },
     "execution_count": 27,
     "metadata": {},
     "output_type": "execute_result"
    }
   ],
   "source": [
    "df(S)"
   ]
  },
  {
   "cell_type": "code",
   "execution_count": 28,
   "metadata": {
    "scrolled": true
   },
   "outputs": [
    {
     "data": {
      "text/plain": [
       "True"
      ]
     },
     "execution_count": 28,
     "metadata": {},
     "output_type": "execute_result"
    }
   ],
   "source": [
    "np.allclose(a, u @ S @ vh )"
   ]
  },
  {
   "cell_type": "code",
   "execution_count": 29,
   "metadata": {},
   "outputs": [
    {
     "data": {
      "text/html": [
       "<div>\n",
       "<style scoped>\n",
       "    .dataframe tbody tr th:only-of-type {\n",
       "        vertical-align: middle;\n",
       "    }\n",
       "\n",
       "    .dataframe tbody tr th {\n",
       "        vertical-align: top;\n",
       "    }\n",
       "\n",
       "    .dataframe thead th {\n",
       "        text-align: right;\n",
       "    }\n",
       "</style>\n",
       "<table border=\"1\" class=\"dataframe\">\n",
       "  <thead>\n",
       "    <tr style=\"text-align: right;\">\n",
       "      <th></th>\n",
       "      <th>0</th>\n",
       "      <th>1</th>\n",
       "      <th>2</th>\n",
       "      <th>3</th>\n",
       "      <th>4</th>\n",
       "    </tr>\n",
       "  </thead>\n",
       "  <tbody>\n",
       "    <tr>\n",
       "      <th>0</th>\n",
       "      <td>(-2.25+0j)</td>\n",
       "      <td>(1.38+0j)</td>\n",
       "      <td>(-0.99+0j)</td>\n",
       "      <td>(1.72+0j)</td>\n",
       "      <td>(1.25+0j)</td>\n",
       "    </tr>\n",
       "    <tr>\n",
       "      <th>1</th>\n",
       "      <td>(1.17-0.99j)</td>\n",
       "      <td>(1.18-1.93j)</td>\n",
       "      <td>(-0.29+1.44j)</td>\n",
       "      <td>(0.84+1.37j)</td>\n",
       "      <td>(-0.82-0.65j)</td>\n",
       "    </tr>\n",
       "    <tr>\n",
       "      <th>2</th>\n",
       "      <td>(1.9+1.21j)</td>\n",
       "      <td>(1.14-2.07j)</td>\n",
       "      <td>(2.05+0.35j)</td>\n",
       "      <td>(-0.35+0.25j)</td>\n",
       "      <td>(1.04+0.65j)</td>\n",
       "    </tr>\n",
       "    <tr>\n",
       "      <th>3</th>\n",
       "      <td>(3.87+2.15j)</td>\n",
       "      <td>(-1.34+1.98j)</td>\n",
       "      <td>(-0.33+0.56j)</td>\n",
       "      <td>(1.13+0.13j)</td>\n",
       "      <td>(0.16+0.09j)</td>\n",
       "    </tr>\n",
       "    <tr>\n",
       "      <th>4</th>\n",
       "      <td>(-1.74-0.95j)</td>\n",
       "      <td>(-1.48+1.58j)</td>\n",
       "      <td>(1.49+2.24j)</td>\n",
       "      <td>(-0.33+0.62j)</td>\n",
       "      <td>(0.6-0.59j)</td>\n",
       "    </tr>\n",
       "  </tbody>\n",
       "</table>\n",
       "</div>"
      ],
      "text/plain": [
       "               0              1              2              3              4\n",
       "0     (-2.25+0j)      (1.38+0j)     (-0.99+0j)      (1.72+0j)      (1.25+0j)\n",
       "1   (1.17-0.99j)   (1.18-1.93j)  (-0.29+1.44j)   (0.84+1.37j)  (-0.82-0.65j)\n",
       "2    (1.9+1.21j)   (1.14-2.07j)   (2.05+0.35j)  (-0.35+0.25j)   (1.04+0.65j)\n",
       "3   (3.87+2.15j)  (-1.34+1.98j)  (-0.33+0.56j)   (1.13+0.13j)   (0.16+0.09j)\n",
       "4  (-1.74-0.95j)  (-1.48+1.58j)   (1.49+2.24j)  (-0.33+0.62j)    (0.6-0.59j)"
      ]
     },
     "execution_count": 29,
     "metadata": {},
     "output_type": "execute_result"
    }
   ],
   "source": [
    "df(u * s)"
   ]
  },
  {
   "cell_type": "markdown",
   "metadata": {},
   "source": [
    "#### without making s into matrix"
   ]
  },
  {
   "cell_type": "code",
   "execution_count": 30,
   "metadata": {
    "scrolled": true
   },
   "outputs": [
    {
     "data": {
      "text/plain": [
       "True"
      ]
     },
     "execution_count": 30,
     "metadata": {},
     "output_type": "execute_result"
    }
   ],
   "source": [
    "np.allclose(a, u * s @ vh[:m, :])"
   ]
  },
  {
   "cell_type": "markdown",
   "metadata": {},
   "source": [
    "#### `full_matrices=False`"
   ]
  },
  {
   "cell_type": "code",
   "execution_count": 31,
   "metadata": {},
   "outputs": [
    {
     "data": {
      "text/plain": [
       "((5, 10), (5, 5), (5,), (5, 10))"
      ]
     },
     "execution_count": 31,
     "metadata": {},
     "output_type": "execute_result"
    }
   ],
   "source": [
    "u, s, vh = svd(a, full_matrices=False)\n",
    "\n",
    "a.shape, u.shape, s.shape, vh.shape"
   ]
  },
  {
   "cell_type": "code",
   "execution_count": 32,
   "metadata": {},
   "outputs": [
    {
     "data": {
      "text/html": [
       "<div>\n",
       "<style scoped>\n",
       "    .dataframe tbody tr th:only-of-type {\n",
       "        vertical-align: middle;\n",
       "    }\n",
       "\n",
       "    .dataframe tbody tr th {\n",
       "        vertical-align: top;\n",
       "    }\n",
       "\n",
       "    .dataframe thead th {\n",
       "        text-align: right;\n",
       "    }\n",
       "</style>\n",
       "<table border=\"1\" class=\"dataframe\">\n",
       "  <thead>\n",
       "    <tr style=\"text-align: right;\">\n",
       "      <th></th>\n",
       "      <th>0</th>\n",
       "      <th>1</th>\n",
       "      <th>2</th>\n",
       "      <th>3</th>\n",
       "      <th>4</th>\n",
       "    </tr>\n",
       "  </thead>\n",
       "  <tbody>\n",
       "    <tr>\n",
       "      <th>0</th>\n",
       "      <td>6.0</td>\n",
       "      <td>0.0</td>\n",
       "      <td>0.00</td>\n",
       "      <td>0.00</td>\n",
       "      <td>0.00</td>\n",
       "    </tr>\n",
       "    <tr>\n",
       "      <th>1</th>\n",
       "      <td>0.0</td>\n",
       "      <td>4.8</td>\n",
       "      <td>0.00</td>\n",
       "      <td>0.00</td>\n",
       "      <td>0.00</td>\n",
       "    </tr>\n",
       "    <tr>\n",
       "      <th>2</th>\n",
       "      <td>0.0</td>\n",
       "      <td>0.0</td>\n",
       "      <td>3.89</td>\n",
       "      <td>0.00</td>\n",
       "      <td>0.00</td>\n",
       "    </tr>\n",
       "    <tr>\n",
       "      <th>3</th>\n",
       "      <td>0.0</td>\n",
       "      <td>0.0</td>\n",
       "      <td>0.00</td>\n",
       "      <td>2.74</td>\n",
       "      <td>0.00</td>\n",
       "    </tr>\n",
       "    <tr>\n",
       "      <th>4</th>\n",
       "      <td>0.0</td>\n",
       "      <td>0.0</td>\n",
       "      <td>0.00</td>\n",
       "      <td>0.00</td>\n",
       "      <td>2.21</td>\n",
       "    </tr>\n",
       "  </tbody>\n",
       "</table>\n",
       "</div>"
      ],
      "text/plain": [
       "     0    1     2     3     4\n",
       "0  6.0  0.0  0.00  0.00  0.00\n",
       "1  0.0  4.8  0.00  0.00  0.00\n",
       "2  0.0  0.0  3.89  0.00  0.00\n",
       "3  0.0  0.0  0.00  2.74  0.00\n",
       "4  0.0  0.0  0.00  0.00  2.21"
      ]
     },
     "execution_count": 32,
     "metadata": {},
     "output_type": "execute_result"
    }
   ],
   "source": [
    "S = np.diag(s)\n",
    "df(S)"
   ]
  },
  {
   "cell_type": "code",
   "execution_count": 33,
   "metadata": {},
   "outputs": [
    {
     "data": {
      "text/plain": [
       "True"
      ]
     },
     "execution_count": 33,
     "metadata": {},
     "output_type": "execute_result"
    }
   ],
   "source": [
    "np.allclose(a, u @ S @ vh)"
   ]
  },
  {
   "cell_type": "markdown",
   "metadata": {},
   "source": [
    "#### without making s into matrix"
   ]
  },
  {
   "cell_type": "code",
   "execution_count": 34,
   "metadata": {},
   "outputs": [
    {
     "data": {
      "text/plain": [
       "True"
      ]
     },
     "execution_count": 34,
     "metadata": {},
     "output_type": "execute_result"
    }
   ],
   "source": [
    "np.allclose(a, u * s @ vh)"
   ]
  },
  {
   "cell_type": "code",
   "execution_count": null,
   "metadata": {},
   "outputs": [],
   "source": []
  }
 ],
 "metadata": {
  "kernelspec": {
   "display_name": "Python 3",
   "language": "python",
   "name": "python3"
  },
  "language_info": {
   "codemirror_mode": {
    "name": "ipython",
    "version": 3
   },
   "file_extension": ".py",
   "mimetype": "text/x-python",
   "name": "python",
   "nbconvert_exporter": "python",
   "pygments_lexer": "ipython3",
   "version": "3.6.4"
  },
  "toc": {
   "base_numbering": 1,
   "nav_menu": {},
   "number_sections": true,
   "sideBar": true,
   "skip_h1_title": false,
   "title_cell": "Table of Contents",
   "title_sidebar": "Contents",
   "toc_cell": false,
   "toc_position": {},
   "toc_section_display": true,
   "toc_window_display": true
  }
 },
 "nbformat": 4,
 "nbformat_minor": 2
}
